{
 "cells": [
  {
   "cell_type": "code",
   "execution_count": 45,
   "id": "5768bcff-c4c8-4712-8c20-1dfa8898a63b",
   "metadata": {},
   "outputs": [
    {
     "data": {
      "text/plain": [
       "'0.13.5'"
      ]
     },
     "execution_count": 45,
     "metadata": {},
     "output_type": "execute_result"
    }
   ],
   "source": [
    "import GCRCatalogs\n",
    "from clevar import ClCatalog, MemCatalog\n",
    "import clevar\n",
    "clevar.__version__"
   ]
  },
  {
   "cell_type": "code",
   "execution_count": 46,
   "id": "51aeb7c6-b829-4a8e-a405-18dca170a3b6",
   "metadata": {},
   "outputs": [],
   "source": [
    "from matplotlib import pyplot as plt\n",
    "import matplotlib \n",
    "\n",
    "matplotlib.rcParams.update({'font.size': 22})\n",
    "matplotlib.rcParams.update({'figure.figsize': (10,8)})"
   ]
  },
  {
   "cell_type": "code",
   "execution_count": 47,
   "id": "32f0bc44-dd57-4370-a4f3-73c9af4d7785",
   "metadata": {},
   "outputs": [],
   "source": [
    "import sys\n",
    "sys.path.append('../')\n",
    "from cluster_validation.opening_catalogs_functions import *"
   ]
  },
  {
   "cell_type": "code",
   "execution_count": 48,
   "id": "0fc201bf-bb9c-48d1-aaea-c190e37b9583",
   "metadata": {},
   "outputs": [],
   "source": [
    "import GCRCatalogs\n",
    "from matplotlib import pyplot as plt\n",
    "import matplotlib \n",
    "\n",
    "matplotlib.rcParams.update({'font.size': 22})\n",
    "matplotlib.rcParams.update({'figure.figsize': (10,8)})"
   ]
  },
  {
   "cell_type": "markdown",
   "id": "bddd7f87-08c4-41be-b06f-11b437d20089",
   "metadata": {},
   "source": [
    "# 1 - Creating and saving catalogs"
   ]
  },
  {
   "cell_type": "code",
   "execution_count": 49,
   "id": "657b5e90-ca8f-47ab-951a-0c6ccb284d7b",
   "metadata": {},
   "outputs": [],
   "source": [
    "min_richness = 5\n",
    "min_halo_mass = 1e13 #Msun"
   ]
  },
  {
   "cell_type": "code",
   "execution_count": 9,
   "id": "262be4cf-37ae-40cf-8485-59e09c999edc",
   "metadata": {},
   "outputs": [],
   "source": [
    "RM_cat_name = 'cosmoDC2_v1.1.4_redmapper_v0.8.1'\n",
    "DC2_cat_name ='cosmoDC2_v1.1.4_image'        \n",
    "\n",
    "cluster_data, member_data, truth_data, gc, gc_truth = RM_DC2_cat_open(RM_cat_name, DC2_cat_name,\\\n",
    "                                                                      min_richness, min_halo_mass,\\\n",
    "                                                                      cluster_only=False, mag_query=True, RM_only=False)"
   ]
  },
  {
   "cell_type": "markdown",
   "id": "1af7ccd6-b9c4-4d7c-9b70-cfab2c5c8ff1",
   "metadata": {},
   "source": [
    "### - cluster catalog"
   ]
  },
  {
   "cell_type": "code",
   "execution_count": 10,
   "id": "a42e4e8a-bd6a-40e0-a96c-49247cc73d61",
   "metadata": {},
   "outputs": [
    {
     "data": {
      "text/plain": [
       "<TableColumns names=('redshift_err','id_cen_0','id_cen_2','cluster_id','p_cen_1','ra_cen_3','dec_cen_2','redshift_true_cg','dec_cen_4','maskfrac','id_cen_3','ra_cen_2','ra_cen_0','p_cen_3','ra','p_cen_0','p_cen_4','dec_cen_3','richness','richness_err','dec_cen_1','dec','ra_cen_4','scaleval','dec_cen_0','p_cen_2','redshift','ra_cen_1','id_cen_4','id_cen_1')>"
      ]
     },
     "execution_count": 10,
     "metadata": {},
     "output_type": "execute_result"
    }
   ],
   "source": [
    "cluster_data.columns"
   ]
  },
  {
   "cell_type": "code",
   "execution_count": 19,
   "id": "dffb3f7e-370e-447c-9c60-5edf4de35116",
   "metadata": {},
   "outputs": [],
   "source": [
    "RM_cat = ClCatalog(RM_cat_name, z=cluster_data[\"redshift\"], ra=cluster_data[\"ra\"], dec=cluster_data[\"dec\"], id = cluster_data[\"cluster_id\"], richness = cluster_data[\"richness\"], richness_err=cluster_data[\"richness_err\"], \\\n",
    "                   id_cg = cluster_data[\"id_cen_0\"], ztrue_cg=cluster_data[\"redshift_true_cg\"], p_cg_0=cluster_data[\"p_cen_0\"])"
   ]
  },
  {
   "cell_type": "code",
   "execution_count": 20,
   "id": "20d2324d-71dd-4760-8ffb-f6bf54a65d90",
   "metadata": {},
   "outputs": [
    {
     "data": {
      "text/html": [
       "<b>cosmoDC2_v1.1.4_redmapper_v0.8.1</b><br></b><b>tags:</b> id(id), z(z), ra(ra), dec(dec)<br><b>Radius unit:</b> None<br><div><i>ClData length=45081</i>\n",
       "<table id=\"table140267243547520\" class=\"table-striped table-bordered table-condensed\">\n",
       "<thead><tr><th>id</th><th>z</th><th>ra</th><th>dec</th><th>richness</th><th>richness_err</th><th>id_cg</th><th>ztrue_cg</th><th>p_cg_0</th><th>mt_self</th><th>mt_other</th><th>mt_multi_self</th><th>mt_multi_other</th></tr></thead>\n",
       "<thead><tr><th>str11</th><th>float32</th><th>float64</th><th>float64</th><th>float32</th><th>float32</th><th>int64</th><th>float32</th><th>float32</th><th>object</th><th>object</th><th>object</th><th>object</th></tr></thead>\n",
       "<tr><td>10</td><td>0.5135129</td><td>52.520436430812914</td><td>-25.717996124671657</td><td>190.70665</td><td>3.7469666</td><td>1312945563</td><td>0.51072353</td><td>0.79138356</td><td>None</td><td>None</td><td>[]</td><td>[]</td></tr>\n",
       "<tr><td>18</td><td>0.5712697</td><td>56.920376528125075</td><td>-27.20434071042304</td><td>179.12813</td><td>3.6934361</td><td>2000524808</td><td>0.5740297</td><td>0.99996513</td><td>None</td><td>None</td><td>[]</td><td>[]</td></tr>\n",
       "<tr><td>24</td><td>1.040338</td><td>56.99849698116052</td><td>-26.7172081871169</td><td>124.02715</td><td>2.4172914</td><td>2002535198</td><td>1.0347759</td><td>0.93527913</td><td>None</td><td>None</td><td>[]</td><td>[]</td></tr>\n",
       "<tr><td>30</td><td>0.63518524</td><td>58.56362402841767</td><td>-27.429961828331713</td><td>167.33603</td><td>3.6777163</td><td>2000759779</td><td>0.6426174</td><td>0.9958548</td><td>None</td><td>None</td><td>[]</td><td>[]</td></tr>\n",
       "<tr><td>71</td><td>0.44230303</td><td>58.35519782866568</td><td>-26.867687128773035</td><td>111.9147</td><td>3.366554</td><td>2000289335</td><td>0.43919736</td><td>0.7297119</td><td>None</td><td>None</td><td>[]</td><td>[]</td></tr>\n",
       "<tr><td>73</td><td>0.46697217</td><td>57.76575707007693</td><td>-28.119101936484828</td><td>104.439766</td><td>2.9570596</td><td>2000290819</td><td>0.4680865</td><td>0.99970347</td><td>None</td><td>None</td><td>[]</td><td>[]</td></tr>\n",
       "<tr><td>109</td><td>0.4413634</td><td>58.509466974185045</td><td>-26.989676182075844</td><td>103.49396</td><td>3.3524604</td><td>2000286447</td><td>0.44349608</td><td>0.99999905</td><td>None</td><td>None</td><td>[]</td><td>[]</td></tr>\n",
       "<tr><td>116</td><td>1.0629631</td><td>54.494027152041674</td><td>-27.896589555863095</td><td>76.85877</td><td>2.2175314</td><td>1940324795</td><td>1.0758829</td><td>0.6544826</td><td>None</td><td>None</td><td>[]</td><td>[]</td></tr>\n",
       "<tr><td>133</td><td>1.037697</td><td>58.137368555958155</td><td>-27.199784884537003</td><td>75.89771</td><td>2.26323</td><td>2002528355</td><td>1.0311339</td><td>0.991116</td><td>None</td><td>None</td><td>[]</td><td>[]</td></tr>\n",
       "<tr><td>151</td><td>1.0760663</td><td>56.70614163063158</td><td>-27.54965595251503</td><td>73.22809</td><td>2.411495</td><td>2002792554</td><td>1.0825598</td><td>0.9999958</td><td>None</td><td>None</td><td>[]</td><td>[]</td></tr>\n",
       "<tr><td>...</td><td>...</td><td>...</td><td>...</td><td>...</td><td>...</td><td>...</td><td>...</td><td>...</td><td>...</td><td>...</td><td>...</td><td>...</td></tr>\n",
       "<tr><td>88669</td><td>1.1347386</td><td>68.97659374968845</td><td>-43.46226537592641</td><td>6.5180874</td><td>1.1459903</td><td>11315873807</td><td>1.2043793</td><td>0.99999994</td><td>None</td><td>None</td><td>[]</td><td>[]</td></tr>\n",
       "<tr><td>21720</td><td>1.133446</td><td>67.80686586780557</td><td>-45.04968907693027</td><td>10.81999</td><td>1.5633166</td><td>11940608972</td><td>1.1316372</td><td>0.94121623</td><td>None</td><td>None</td><td>[]</td><td>[]</td></tr>\n",
       "<tr><td>84643</td><td>1.1440023</td><td>69.32447991359263</td><td>-44.58164957988367</td><td>5.1451397</td><td>1.4131594</td><td>12003349376</td><td>1.2002995</td><td>0.94542605</td><td>None</td><td>None</td><td>[]</td><td>[]</td></tr>\n",
       "<tr><td>35682</td><td>0.47193053</td><td>69.5183602456607</td><td>-44.85610621353534</td><td>5.9383984</td><td>1.2630464</td><td>12000315335</td><td>0.47074133</td><td>0.89693886</td><td>None</td><td>None</td><td>[]</td><td>[]</td></tr>\n",
       "<tr><td>54206</td><td>0.5012809</td><td>70.47296979578381</td><td>-44.81929434112701</td><td>5.2824345</td><td>1.234711</td><td>12000459039</td><td>0.50687563</td><td>0.85845697</td><td>None</td><td>None</td><td>[]</td><td>[]</td></tr>\n",
       "<tr><td>29100</td><td>1.1359326</td><td>66.93469285125511</td><td>-45.3464905749836</td><td>5.3739643</td><td>1.7012949</td><td>11940894380</td><td>1.1941854</td><td>0.8403742</td><td>None</td><td>None</td><td>[]</td><td>[]</td></tr>\n",
       "<tr><td>97018</td><td>1.1348144</td><td>71.14867155851915</td><td>-45.04493556544232</td><td>7.5554256</td><td>1.5348982</td><td>12003351933</td><td>1.1928569</td><td>0.9071249</td><td>None</td><td>None</td><td>[]</td><td>[]</td></tr>\n",
       "<tr><td>97912</td><td>0.21152088</td><td>71.59288528630849</td><td>-44.833270342288635</td><td>5.007845</td><td>0.8978684</td><td>12000026207</td><td>0.20771948</td><td>0.7053878</td><td>None</td><td>None</td><td>[]</td><td>[]</td></tr>\n",
       "<tr><td>37112</td><td>1.1475015</td><td>69.36171381510071</td><td>-44.138625691755685</td><td>5.3587093</td><td>1.4293212</td><td>11315864504</td><td>1.1517015</td><td>0.9720678</td><td>None</td><td>None</td><td>[]</td><td>[]</td></tr>\n",
       "<tr><td>74968</td><td>0.9184803</td><td>70.4738860743343</td><td>-44.583719372027936</td><td>5.1298847</td><td>1.5429279</td><td>12001980394</td><td>0.93659854</td><td>0.99953824</td><td>None</td><td>None</td><td>[]</td><td>[]</td></tr>\n",
       "</table></div>"
      ],
      "text/plain": [
       "<clevar.catalog.ClCatalog at 0x7f928339a1f0>"
      ]
     },
     "metadata": {},
     "output_type": "display_data"
    }
   ],
   "source": [
    "display(RM_cat)"
   ]
  },
  {
   "cell_type": "code",
   "execution_count": 21,
   "id": "ce03aab5-8873-4f18-a47c-13df97eb7d30",
   "metadata": {},
   "outputs": [],
   "source": [
    "RM_cat.write('RM_cat_richness_min_'+str(min_richness)+'.fits', add_header =True, overwrite=True)"
   ]
  },
  {
   "cell_type": "markdown",
   "id": "79d3cc1e-15ae-4376-82c7-64a9b1f7e38b",
   "metadata": {},
   "source": [
    "### - cluster member catalog"
   ]
  },
  {
   "cell_type": "code",
   "execution_count": 22,
   "id": "bfc0f369-5200-4db1-96c0-0085d2a8061c",
   "metadata": {},
   "outputs": [],
   "source": [
    "# this quantity describe the probability to be a member\n",
    "\n",
    "pmem = member_data[\"p_member\"] * member_data[\"pfree_member\"] * member_data[\"theta_i_member\"] * member_data[\"theta_r_member\"] \n",
    "\n",
    "member_data.add_column(pmem, name=\"pmem\")"
   ]
  },
  {
   "cell_type": "code",
   "execution_count": 23,
   "id": "54d113cb-d206-465b-9a58-8494e523b71d",
   "metadata": {},
   "outputs": [
    {
     "data": {
      "text/plain": [
       "<TableColumns names=('theta_i_member','mag_r_lsst_member','refmag_member','redshift_true_member','cluster_id_member','magerr_z_lsst_member','mag_g_lsst_member','id_member','ra_member','pfree_member','p_member','refmag_err_member','magerr_y_lsst_member','magerr_g_lsst_member','magerr_r_lsst_member','mag_y_lsst_member','dec_member','mag_i_lsst_member','theta_r_member','magerr_i_lsst_member','mag_z_lsst_member','pmem')>"
      ]
     },
     "execution_count": 23,
     "metadata": {},
     "output_type": "execute_result"
    }
   ],
   "source": [
    "member_data.columns"
   ]
  },
  {
   "cell_type": "code",
   "execution_count": 24,
   "id": "37f97453-1a04-417d-9565-28971d23db2f",
   "metadata": {},
   "outputs": [],
   "source": [
    "RM_cat_members = MemCatalog(\"RM_members\", id_cluster=member_data[\"cluster_id_member\"], id=member_data[\"id_member\"], ra=member_data[\"ra_member\"], dec=member_data[\"dec_member\"],\n",
    "                            pmem=member_data[\"pmem\"],  redshift=member_data[\"redshift_true_member\"], \n",
    "                            mag_g_lsst_member=member_data[\"mag_g_lsst_member\"], mag_r_lsst_member=member_data[\"mag_r_lsst_member\"], \n",
    "                            mag_i_lsst_member=member_data[\"mag_i_lsst_member\"], mag_z_lsst_member=member_data[\"mag_z_lsst_member\"], mag_y_lsst_member=member_data[\"mag_y_lsst_member\"]) "
   ]
  },
  {
   "cell_type": "code",
   "execution_count": 25,
   "id": "f92c97e5-e295-4308-8e34-647a37c42033",
   "metadata": {},
   "outputs": [],
   "source": [
    "RM_cat.add_members(members_catalog=RM_cat_members)"
   ]
  },
  {
   "cell_type": "code",
   "execution_count": 26,
   "id": "5da982ee-8153-40f0-8dd1-2d9e45214116",
   "metadata": {},
   "outputs": [
    {
     "data": {
      "text/html": [
       "<b>RM_members</b><br><b>tags:</b> id(id), id_cluster(id_cluster), ra(ra), dec(dec), pmem(pmem)<br><div><i>ClData length=887518</i>\n",
       "<table id=\"table140269008723776\" class=\"table-striped table-bordered table-condensed\">\n",
       "<thead><tr><th>id</th><th>id_cluster</th><th>ra</th><th>dec</th><th>pmem</th><th>redshift</th><th>mag_g_lsst_member</th><th>mag_r_lsst_member</th><th>mag_i_lsst_member</th><th>mag_z_lsst_member</th><th>mag_y_lsst_member</th><th>ind_cl</th></tr></thead>\n",
       "<thead><tr><th>str21</th><th>str11</th><th>float64</th><th>float64</th><th>float32</th><th>float32</th><th>float32</th><th>float32</th><th>float32</th><th>float32</th><th>float32</th><th>int64</th></tr></thead>\n",
       "<tr><td>1312945563</td><td>10</td><td>52.520436430812914</td><td>-25.717996124671657</td><td>0.99583477</td><td>0.51072353</td><td>20.286411</td><td>18.798338</td><td>17.89911</td><td>17.505138</td><td>17.322586</td><td>0</td></tr>\n",
       "<tr><td>1312932492</td><td>10</td><td>52.519490104517175</td><td>-25.71783277825776</td><td>0.9876479</td><td>0.5130878</td><td>20.368668</td><td>18.879597</td><td>18.05471</td><td>17.676914</td><td>17.482</td><td>0</td></tr>\n",
       "<tr><td>1312932655</td><td>10</td><td>52.518707152418855</td><td>-25.71750114716764</td><td>0.9697444</td><td>0.523674</td><td>22.91745</td><td>21.444391</td><td>20.486027</td><td>20.064653</td><td>19.879288</td><td>0</td></tr>\n",
       "<tr><td>1312946401</td><td>10</td><td>52.518979242173025</td><td>-25.71690396971558</td><td>0.99689674</td><td>0.51073974</td><td>23.4083</td><td>21.914343</td><td>21.0543</td><td>20.635675</td><td>20.473616</td><td>0</td></tr>\n",
       "<tr><td>1312946359</td><td>10</td><td>52.52323890490535</td><td>-25.71709733763848</td><td>0.99600416</td><td>0.5105011</td><td>22.737461</td><td>21.228529</td><td>20.303442</td><td>19.94585</td><td>19.697416</td><td>0</td></tr>\n",
       "<tr><td>1312932712</td><td>10</td><td>52.51752041591883</td><td>-25.717318002826303</td><td>0.9944089</td><td>0.51873726</td><td>22.236683</td><td>20.697811</td><td>19.791677</td><td>19.392906</td><td>19.213097</td><td>0</td></tr>\n",
       "<tr><td>1312945743</td><td>10</td><td>52.522204954216015</td><td>-25.715387727740318</td><td>0.96740067</td><td>0.5103931</td><td>22.867363</td><td>21.282442</td><td>20.382519</td><td>19.967947</td><td>19.805065</td><td>0</td></tr>\n",
       "<tr><td>1312932517</td><td>10</td><td>52.52449873444964</td><td>-25.717773366108503</td><td>0.99410915</td><td>0.50992316</td><td>23.20681</td><td>21.730125</td><td>20.830225</td><td>20.387508</td><td>20.161732</td><td>0</td></tr>\n",
       "<tr><td>1312946270</td><td>10</td><td>52.51641230513422</td><td>-25.718985813309068</td><td>0.9976963</td><td>0.51228535</td><td>22.93172</td><td>21.42707</td><td>20.537926</td><td>20.15959</td><td>19.981861</td><td>0</td></tr>\n",
       "<tr><td>1312946366</td><td>10</td><td>52.52479945586216</td><td>-25.7191772849899</td><td>0.9978806</td><td>0.5153611</td><td>23.487461</td><td>22.009033</td><td>21.154459</td><td>20.781765</td><td>20.598295</td><td>0</td></tr>\n",
       "<tr><td>...</td><td>...</td><td>...</td><td>...</td><td>...</td><td>...</td><td>...</td><td>...</td><td>...</td><td>...</td><td>...</td><td>...</td></tr>\n",
       "<tr><td>12001980394</td><td>74968</td><td>70.4738860743343</td><td>-44.583719372027936</td><td>0.18182991</td><td>0.93659854</td><td>24.844208</td><td>23.538816</td><td>22.477713</td><td>21.82521</td><td>21.591358</td><td>45080</td></tr>\n",
       "<tr><td>12001980397</td><td>74968</td><td>70.46873011879825</td><td>-44.57916457802848</td><td>0.4871208</td><td>0.93569285</td><td>26.244192</td><td>24.378717</td><td>23.415142</td><td>22.536907</td><td>22.200325</td><td>45080</td></tr>\n",
       "<tr><td>12002195458</td><td>74968</td><td>70.48714930074922</td><td>-44.593653558487226</td><td>0.0</td><td>0.99748045</td><td>25.115776</td><td>23.992609</td><td>23.034327</td><td>22.26197</td><td>22.024704</td><td>45080</td></tr>\n",
       "<tr><td>12001980408</td><td>74968</td><td>70.46155103528416</td><td>-44.57480188278532</td><td>0.55206805</td><td>0.93661106</td><td>26.395853</td><td>24.845156</td><td>23.86693</td><td>23.000544</td><td>22.676394</td><td>45080</td></tr>\n",
       "<tr><td>12001723737</td><td>74968</td><td>70.4733120012855</td><td>-44.56187788934117</td><td>0.30495477</td><td>0.8926942</td><td>26.571117</td><td>24.751856</td><td>23.67511</td><td>22.898178</td><td>22.73902</td><td>45080</td></tr>\n",
       "<tr><td>12001566320</td><td>74968</td><td>70.4597027235948</td><td>-44.561452334471824</td><td>0.2101111</td><td>0.8469972</td><td>26.151848</td><td>24.625832</td><td>23.51424</td><td>22.90544</td><td>22.76169</td><td>45080</td></tr>\n",
       "<tr><td>12001731074</td><td>74968</td><td>70.46921373726803</td><td>-44.60549442893645</td><td>0.50994307</td><td>0.87195307</td><td>24.863094</td><td>23.265871</td><td>22.219019</td><td>21.535057</td><td>21.283115</td><td>45080</td></tr>\n",
       "<tr><td>12001996934</td><td>74968</td><td>70.43523986793632</td><td>-44.58158749837035</td><td>0.40835196</td><td>0.9192593</td><td>24.721514</td><td>23.223753</td><td>22.173378</td><td>21.391592</td><td>21.12131</td><td>45080</td></tr>\n",
       "<tr><td>12001996929</td><td>74968</td><td>70.43233624710525</td><td>-44.58722127421913</td><td>0.09069897</td><td>0.9185832</td><td>26.070425</td><td>24.613369</td><td>23.527422</td><td>22.71744</td><td>22.449701</td><td>45080</td></tr>\n",
       "<tr><td>12000039772</td><td>74968</td><td>70.56977927416229</td><td>-44.50679429436487</td><td>0.0</td><td>0.23528506</td><td>22.81131</td><td>22.061752</td><td>21.773388</td><td>21.580961</td><td>21.352406</td><td>45080</td></tr>\n",
       "</table></div>"
      ],
      "text/plain": [
       "<clevar.catalog.MemCatalog at 0x7f92795b54f0>"
      ]
     },
     "metadata": {},
     "output_type": "display_data"
    }
   ],
   "source": [
    "display(RM_cat.members)"
   ]
  },
  {
   "cell_type": "code",
   "execution_count": 27,
   "id": "af387edf-b6bc-47f6-8156-d45bb5428c2f",
   "metadata": {},
   "outputs": [],
   "source": [
    "RM_cat.members.write('RM_cat_richness_min_'+str(min_richness)+'_members.fits', overwrite=True)"
   ]
  },
  {
   "cell_type": "markdown",
   "id": "0645c6e7-23b3-4bb3-bd67-44c930005126",
   "metadata": {},
   "source": [
    "### - halo catalog"
   ]
  },
  {
   "cell_type": "code",
   "execution_count": 29,
   "id": "9e4779ed-17b8-44d7-b853-732a0d83c673",
   "metadata": {},
   "outputs": [],
   "source": [
    "halo_cat = ClCatalog(DC2_cat_name, z= truth_data[\"redshift\"][truth_data[\"is_central\"]],\n",
    "                     ra= truth_data[\"ra\"][truth_data[\"is_central\"]], dec= truth_data[\"dec\"][truth_data[\"is_central\"]],\n",
    "                     id=truth_data[\"halo_id\"][truth_data[\"is_central\"]], mass_fof=truth_data[\"halo_mass\"][truth_data[\"is_central\"]])"
   ]
  },
  {
   "cell_type": "code",
   "execution_count": 30,
   "id": "3bd2795e-1fb0-4b92-a8ce-a4c3c41a5156",
   "metadata": {},
   "outputs": [
    {
     "data": {
      "text/html": [
       "<b>cosmoDC2_v1.1.4_image</b><br></b><b>tags:</b> id(id), z(z), ra(ra), dec(dec)<br><b>Radius unit:</b> None<br><div><i>ClData length=278904</i>\n",
       "<table id=\"table140267078261584\" class=\"table-striped table-bordered table-condensed\">\n",
       "<thead><tr><th>id</th><th>z</th><th>ra</th><th>dec</th><th>mass_fof</th><th>mt_self</th><th>mt_other</th><th>mt_multi_self</th><th>mt_multi_other</th></tr></thead>\n",
       "<thead><tr><th>str21</th><th>float64</th><th>float64</th><th>float64</th><th>float64</th><th>object</th><th>object</th><th>object</th><th>object</th></tr></thead>\n",
       "<tr><td>4500151475</td><td>0.04818676962281132</td><td>49.6366034309591</td><td>-40.400894272468605</td><td>16891355712901.41</td><td>None</td><td>None</td><td>[]</td><td>[]</td></tr>\n",
       "<tr><td>7300151475</td><td>0.04825926322238838</td><td>50.957598308861314</td><td>-41.3447799174979</td><td>74621860826501.4</td><td>None</td><td>None</td><td>[]</td><td>[]</td></tr>\n",
       "<tr><td>13700151475</td><td>0.04554516035339984</td><td>51.00887984172898</td><td>-40.832338501224754</td><td>33506664194163.383</td><td>None</td><td>None</td><td>[]</td><td>[]</td></tr>\n",
       "<tr><td>1100151464</td><td>0.0643846735498792</td><td>50.57641425057562</td><td>-41.15855360868742</td><td>17911434075583.098</td><td>None</td><td>None</td><td>[]</td><td>[]</td></tr>\n",
       "<tr><td>18300151442</td><td>0.10736840205357634</td><td>50.77601162448169</td><td>-39.168679326038024</td><td>13042641686354.93</td><td>None</td><td>None</td><td>[]</td><td>[]</td></tr>\n",
       "<tr><td>36400151442</td><td>0.12743613052494784</td><td>50.60510200022939</td><td>-39.336294511446724</td><td>48388878878287.33</td><td>None</td><td>None</td><td>[]</td><td>[]</td></tr>\n",
       "<tr><td>43700151442</td><td>0.11375834498747261</td><td>49.50475455575477</td><td>-40.23977306100707</td><td>69213477135143.664</td><td>None</td><td>None</td><td>[]</td><td>[]</td></tr>\n",
       "<tr><td>52300151442</td><td>0.1259639067546261</td><td>51.070122482361214</td><td>-39.64548257286864</td><td>62974036412214.086</td><td>None</td><td>None</td><td>[]</td><td>[]</td></tr>\n",
       "<tr><td>1200151432</td><td>0.12775858760889358</td><td>50.36982165635327</td><td>-39.09754001831282</td><td>34125997485791.55</td><td>None</td><td>None</td><td>[]</td><td>[]</td></tr>\n",
       "<tr><td>19600151432</td><td>0.13821494293793823</td><td>49.86690991730185</td><td>-40.93221573630326</td><td>11907928860123.943</td><td>None</td><td>None</td><td>[]</td><td>[]</td></tr>\n",
       "<tr><td>...</td><td>...</td><td>...</td><td>...</td><td>...</td><td>...</td><td>...</td><td>...</td><td>...</td></tr>\n",
       "<tr><td>6091300146213</td><td>1.2625853945182262</td><td>74.38010798836815</td><td>-38.574645720572</td><td>13846734069183.1</td><td>None</td><td>None</td><td>[]</td><td>[]</td></tr>\n",
       "<tr><td>6095500146213</td><td>1.267425334206672</td><td>75.30558060065206</td><td>-38.8412871385436</td><td>14156400714997.184</td><td>None</td><td>None</td><td>[]</td><td>[]</td></tr>\n",
       "<tr><td>6106400146213</td><td>1.2931724979720847</td><td>74.82846476392199</td><td>-38.558346925145464</td><td>10359156262940.846</td><td>None</td><td>None</td><td>[]</td><td>[]</td></tr>\n",
       "<tr><td>6123100146213</td><td>1.2852358160856836</td><td>73.73760283855474</td><td>-38.742093107031195</td><td>17406599375684.508</td><td>None</td><td>None</td><td>[]</td><td>[]</td></tr>\n",
       "<tr><td>6152300146213</td><td>1.2560346681001398</td><td>75.61151578715197</td><td>-38.343061455787215</td><td>11642424986321.127</td><td>None</td><td>None</td><td>[]</td><td>[]</td></tr>\n",
       "<tr><td>6250200146213</td><td>1.289686622582011</td><td>74.31651643924754</td><td>-38.66501220622716</td><td>21263120124394.367</td><td>None</td><td>None</td><td>[]</td><td>[]</td></tr>\n",
       "<tr><td>6252500146213</td><td>1.2843633617979462</td><td>74.94785177056964</td><td>-39.342213537243545</td><td>12490966653476.057</td><td>None</td><td>None</td><td>[]</td><td>[]</td></tr>\n",
       "<tr><td>6320200146213</td><td>1.2670298331719114</td><td>74.89234406433944</td><td>-38.162287284366855</td><td>45341654993847.89</td><td>None</td><td>None</td><td>[]</td><td>[]</td></tr>\n",
       "<tr><td>6335600146213</td><td>1.2911782632587196</td><td>73.42637661139285</td><td>-38.51869944682166</td><td>87303947439954.94</td><td>None</td><td>None</td><td>[]</td><td>[]</td></tr>\n",
       "<tr><td>6344000146213</td><td>1.2659415195960086</td><td>74.38728727395909</td><td>-37.42575429027717</td><td>17385781449915.494</td><td>None</td><td>None</td><td>[]</td><td>[]</td></tr>\n",
       "</table></div>"
      ],
      "text/plain": [
       "<clevar.catalog.ClCatalog at 0x7f92795b5e50>"
      ]
     },
     "metadata": {},
     "output_type": "display_data"
    }
   ],
   "source": [
    "display(halo_cat)"
   ]
  },
  {
   "cell_type": "code",
   "execution_count": 31,
   "id": "ae6db0a1-b83a-4847-85b1-4fd1456cffa9",
   "metadata": {},
   "outputs": [],
   "source": [
    "halo_cat.write('halo_cat_mass_min_'+ f\"{min_halo_mass:1.2e}\"+'.fits', overwrite=True)"
   ]
  },
  {
   "cell_type": "markdown",
   "id": "c0f1a930-9680-49e6-91e5-199d74b79045",
   "metadata": {},
   "source": [
    "### - halo members catalog"
   ]
  },
  {
   "cell_type": "code",
   "execution_count": 32,
   "id": "b1dac7d0-8ab4-49ae-b667-a939254a4146",
   "metadata": {},
   "outputs": [],
   "source": [
    "halo_cat_members = MemCatalog(\"halo_members\", id_cluster=truth_data[\"halo_id\"], id=truth_data[\"galaxy_id\"], ra=truth_data[\"ra\"], dec=truth_data[\"dec\"],\n",
    "                              redshift=truth_data[\"redshift\"], is_central = truth_data[\"is_central\"], \n",
    "                              mag_true_u_lsst = truth_data[\"mag_true_u_lsst\"],  mag_true_g_lsst = truth_data[\"mag_true_g_lsst\"],\n",
    "                              mag_true_r_lsst = truth_data[\"mag_true_r_lsst\"], mag_true_i_lsst = truth_data[\"mag_true_i_lsst\"],  mag_true_z_lsst = truth_data[\"mag_true_z_lsst\"], ) "
   ]
  },
  {
   "cell_type": "code",
   "execution_count": 33,
   "id": "65cb4225-846f-48bb-95c9-dee1ba1bdfa7",
   "metadata": {},
   "outputs": [
    {
     "name": "stderr",
     "output_type": "stream",
     "text": [
      "/pbs/throng/lsst/users/mricci/desc/my_clean_env/lib/python3.8/site-packages/clevar-0.13.4-py3.8.egg/clevar/catalog.py:1032: UserWarning: Some galaxies were not members of the cluster catalog. They are stored in leftover_members attribute.\n",
      "  warnings.warn(\n"
     ]
    }
   ],
   "source": [
    "halo_cat.add_members(members_catalog=halo_cat_members)"
   ]
  },
  {
   "cell_type": "code",
   "execution_count": 34,
   "id": "e6ad9e26-307c-47dc-a9c9-15eb622ce490",
   "metadata": {},
   "outputs": [],
   "source": [
    "halo_cat.members.write('halo_cat_mass_min_'+f\"{min_halo_mass:1.2e}\"+'_members.fits', overwrite=True)"
   ]
  },
  {
   "cell_type": "code",
   "execution_count": 35,
   "id": "0c86f222-b1c3-4535-bbb0-f43e270ba485",
   "metadata": {},
   "outputs": [
    {
     "data": {
      "text/html": [
       "<b>halo_members</b><br><b>tags:</b> id(id), id_cluster(id_cluster), ra(ra), dec(dec)<br><div><i>ClData length=6466725</i>\n",
       "<table id=\"table140269008371520\" class=\"table-striped table-bordered table-condensed\">\n",
       "<thead><tr><th>id</th><th>id_cluster</th><th>ra</th><th>dec</th><th>redshift</th><th>is_central</th><th>mag_true_u_lsst</th><th>mag_true_g_lsst</th><th>mag_true_r_lsst</th><th>mag_true_i_lsst</th><th>mag_true_z_lsst</th><th>ind_cl</th></tr></thead>\n",
       "<thead><tr><th>str21</th><th>str21</th><th>float64</th><th>float64</th><th>float64</th><th>bool</th><th>float32</th><th>float32</th><th>float32</th><th>float32</th><th>float32</th><th>int64</th></tr></thead>\n",
       "<tr><td>9437500128</td><td>4500151475</td><td>49.6366034309591</td><td>-40.400894272468605</td><td>0.04818676962281132</td><td>True</td><td>17.104242</td><td>15.427202</td><td>14.594372</td><td>14.220104</td><td>13.957041</td><td>0</td></tr>\n",
       "<tr><td>9437500129</td><td>4500151475</td><td>49.46521866823849</td><td>-40.41371737691802</td><td>0.04920109901409253</td><td>False</td><td>22.25664</td><td>21.199564</td><td>20.71225</td><td>20.43797</td><td>20.297253</td><td>0</td></tr>\n",
       "<tr><td>9437500130</td><td>4500151475</td><td>49.62952487674635</td><td>-40.40525333868696</td><td>0.04825475916728461</td><td>False</td><td>17.41775</td><td>15.811033</td><td>15.01067</td><td>14.648596</td><td>14.410269</td><td>0</td></tr>\n",
       "<tr><td>9437500131</td><td>4500151475</td><td>49.63722268629932</td><td>-40.40213407288883</td><td>0.04908434162264519</td><td>False</td><td>20.77637</td><td>19.294384</td><td>18.560036</td><td>18.194801</td><td>17.962835</td><td>0</td></tr>\n",
       "<tr><td>9437500132</td><td>4500151475</td><td>49.47215142449812</td><td>-40.40661788509503</td><td>0.04715899608329677</td><td>False</td><td>20.729671</td><td>19.474966</td><td>19.085833</td><td>18.89763</td><td>18.833975</td><td>0</td></tr>\n",
       "<tr><td>9437500133</td><td>4500151475</td><td>49.62774364073635</td><td>-40.389274415076976</td><td>0.04834164860201673</td><td>False</td><td>22.528042</td><td>21.259693</td><td>20.748756</td><td>20.500061</td><td>20.401487</td><td>0</td></tr>\n",
       "<tr><td>9437500134</td><td>4500151475</td><td>49.7276378027726</td><td>-40.383940630337435</td><td>0.04834778668489825</td><td>False</td><td>19.053247</td><td>17.43881</td><td>16.642687</td><td>16.257164</td><td>16.007717</td><td>0</td></tr>\n",
       "<tr><td>9437500135</td><td>4500151475</td><td>49.698541467041395</td><td>-40.27724451449116</td><td>0.04829776417102405</td><td>False</td><td>18.213757</td><td>17.159548</td><td>16.622149</td><td>16.261654</td><td>15.996252</td><td>0</td></tr>\n",
       "<tr><td>9437500136</td><td>4500151475</td><td>49.718255793095075</td><td>-40.54445769390596</td><td>0.04739776740602353</td><td>False</td><td>22.01182</td><td>20.756655</td><td>20.328505</td><td>20.129255</td><td>20.065802</td><td>0</td></tr>\n",
       "<tr><td>9437500137</td><td>4500151475</td><td>49.55933494275653</td><td>-40.5465240449347</td><td>0.04817012872864823</td><td>False</td><td>21.069544</td><td>19.891216</td><td>19.573114</td><td>19.410461</td><td>19.358767</td><td>0</td></tr>\n",
       "<tr><td>...</td><td>...</td><td>...</td><td>...</td><td>...</td><td>...</td><td>...</td><td>...</td><td>...</td><td>...</td><td>...</td><td>...</td></tr>\n",
       "<tr><td>9129079558</td><td>6335600146213</td><td>73.42029802172652</td><td>-38.52190755281223</td><td>1.2893660031811485</td><td>False</td><td>30.027546</td><td>28.56636</td><td>27.10239</td><td>25.779552</td><td>25.090096</td><td>278902</td></tr>\n",
       "<tr><td>9129079559</td><td>6335600146213</td><td>73.40723545662975</td><td>-38.51892285707724</td><td>1.2921775993460654</td><td>False</td><td>30.253052</td><td>29.022009</td><td>27.447943</td><td>26.036024</td><td>25.35283</td><td>278902</td></tr>\n",
       "<tr><td>9129079560</td><td>6335600146213</td><td>73.42921622275543</td><td>-38.50829265121829</td><td>1.2913812152345603</td><td>False</td><td>30.271748</td><td>28.81056</td><td>27.346592</td><td>26.023752</td><td>25.334295</td><td>278902</td></tr>\n",
       "<tr><td>9129079561</td><td>6335600146213</td><td>73.4138979375299</td><td>-38.51555718999108</td><td>1.2907794722914145</td><td>False</td><td>30.100595</td><td>28.211843</td><td>26.927414</td><td>25.735006</td><td>25.044167</td><td>278902</td></tr>\n",
       "<tr><td>9129079562</td><td>6335600146213</td><td>73.42809898024836</td><td>-38.51979088386811</td><td>1.2935802445915092</td><td>False</td><td>31.182241</td><td>28.99945</td><td>27.432734</td><td>26.09465</td><td>25.41619</td><td>278902</td></tr>\n",
       "<tr><td>9129079563</td><td>6335600146213</td><td>73.42107370977125</td><td>-38.52401844114105</td><td>1.290298939182239</td><td>False</td><td>30.799206</td><td>29.136852</td><td>27.598541</td><td>26.241163</td><td>25.548582</td><td>278902</td></tr>\n",
       "<tr><td>9129079564</td><td>6335600146213</td><td>73.43318847026094</td><td>-38.51105280841629</td><td>1.292915347491229</td><td>False</td><td>29.687834</td><td>28.32943</td><td>26.889503</td><td>25.570728</td><td>24.886444</td><td>278902</td></tr>\n",
       "<tr><td>9129079565</td><td>6335600146213</td><td>73.41001832271985</td><td>-38.51679258175331</td><td>1.2907177969387682</td><td>False</td><td>31.525925</td><td>28.95634</td><td>27.50064</td><td>26.230993</td><td>25.553013</td><td>278902</td></tr>\n",
       "<tr><td>9129079566</td><td>6335600146213</td><td>73.42560243457923</td><td>-38.52492795643084</td><td>1.2914683070040338</td><td>False</td><td>29.702808</td><td>28.24162</td><td>26.77765</td><td>25.454813</td><td>24.765354</td><td>278902</td></tr>\n",
       "<tr><td>9129079567</td><td>6335600146213</td><td>73.42763919131343</td><td>-38.52156973165731</td><td>1.2855963125255205</td><td>False</td><td>31.296919</td><td>29.393923</td><td>27.665527</td><td>26.211071</td><td>25.521923</td><td>278902</td></tr>\n",
       "</table></div>"
      ],
      "text/plain": [
       "<clevar.catalog.MemCatalog at 0x7f92ec707a90>"
      ]
     },
     "execution_count": 35,
     "metadata": {},
     "output_type": "execute_result"
    }
   ],
   "source": [
    "halo_cat.members"
   ]
  },
  {
   "cell_type": "markdown",
   "id": "6f53fd8e-1d7a-457d-8d02-1869568712d7",
   "metadata": {},
   "source": [
    "# 2 - opening catalogs"
   ]
  },
  {
   "cell_type": "markdown",
   "id": "b978f6f6-07e8-44e9-93a6-29fac908403e",
   "metadata": {},
   "source": [
    "### - halo and cluster catalogs"
   ]
  },
  {
   "cell_type": "code",
   "execution_count": 50,
   "id": "0939ca07-6fae-4c21-ad8c-6fca566e8b0e",
   "metadata": {},
   "outputs": [],
   "source": [
    "RM_cat = ClCatalog.read('RM_cat_richness_min_'+str(min_richness)+'.fits', name='RM_cat', full=True, tags={'mass':'richness'})"
   ]
  },
  {
   "cell_type": "code",
   "execution_count": 51,
   "id": "69749e48-aead-422a-8adb-2e7779194bb5",
   "metadata": {},
   "outputs": [],
   "source": [
    "halo_cat = ClCatalog.read('halo_cat_mass_min_'+f\"{min_halo_mass:1.2e}\"+'.fits', name='halo_cat', full=True, tags={'mass':'mass_fof'})"
   ]
  },
  {
   "cell_type": "markdown",
   "id": "de6f2205-6ebd-4bd3-8ed8-ed7a7d656b9c",
   "metadata": {},
   "source": [
    "### - member catalogs"
   ]
  },
  {
   "cell_type": "code",
   "execution_count": 21,
   "id": "7143aa36-6b73-4bbb-89f9-1c21e9a2c449",
   "metadata": {},
   "outputs": [],
   "source": [
    "RM_cat.read_members('RM_cat_richness_min_'+str(min_richness)+'_members.fits',  full=True)"
   ]
  },
  {
   "cell_type": "code",
   "execution_count": 22,
   "id": "53af8915-d35d-4923-9027-40ca576e9a32",
   "metadata": {},
   "outputs": [],
   "source": [
    "halo_cat.read_members('halo_cat_mass_min_'+f\"{min_halo_mass:1.2e}\"+'_members.fits', full=True)"
   ]
  },
  {
   "cell_type": "code",
   "execution_count": 23,
   "id": "9b87375d-8bef-47c0-80a9-e0b6e46d37ea",
   "metadata": {},
   "outputs": [
    {
     "data": {
      "text/html": [
       "<b>RM_cat</b><br></b><b>tags:</b> id(id), richness(mass), z(z), ra(ra), dec(dec)<br><b>Radius unit:</b> None<br><div><i>ClData length=45081</i>\n",
       "<table id=\"table139867729531712\" class=\"table-striped table-bordered table-condensed\">\n",
       "<thead><tr><th>id</th><th>z</th><th>ra</th><th>dec</th><th>richness (mass)</th><th>richness_err</th><th>id_cg</th><th>ztrue_cg</th><th>p_cg_0</th><th>mt_self</th><th>mt_other</th><th>mt_multi_self</th><th>mt_multi_other</th></tr></thead>\n",
       "<thead><tr><th>str11</th><th>float32</th><th>float64</th><th>float64</th><th>float32</th><th>float32</th><th>int64</th><th>float32</th><th>float32</th><th>object</th><th>object</th><th>object</th><th>object</th></tr></thead>\n",
       "<tr><td>10</td><td>0.5135129</td><td>52.520436430812914</td><td>-25.717996124671657</td><td>190.70665</td><td>3.7469666</td><td>1312945563</td><td>0.51072353</td><td>0.79138356</td><td>None</td><td>None</td><td>[]</td><td>[]</td></tr>\n",
       "<tr><td>18</td><td>0.5712697</td><td>56.920376528125075</td><td>-27.20434071042304</td><td>179.12813</td><td>3.6934361</td><td>2000524808</td><td>0.5740297</td><td>0.99996513</td><td>None</td><td>None</td><td>[]</td><td>[]</td></tr>\n",
       "<tr><td>24</td><td>1.040338</td><td>56.99849698116052</td><td>-26.7172081871169</td><td>124.02715</td><td>2.4172914</td><td>2002535198</td><td>1.0347759</td><td>0.93527913</td><td>None</td><td>None</td><td>[]</td><td>[]</td></tr>\n",
       "<tr><td>30</td><td>0.63518524</td><td>58.56362402841767</td><td>-27.429961828331713</td><td>167.33603</td><td>3.6777163</td><td>2000759779</td><td>0.6426174</td><td>0.9958548</td><td>None</td><td>None</td><td>[]</td><td>[]</td></tr>\n",
       "<tr><td>71</td><td>0.44230303</td><td>58.35519782866568</td><td>-26.867687128773035</td><td>111.9147</td><td>3.366554</td><td>2000289335</td><td>0.43919736</td><td>0.7297119</td><td>None</td><td>None</td><td>[]</td><td>[]</td></tr>\n",
       "<tr><td>73</td><td>0.46697217</td><td>57.76575707007693</td><td>-28.119101936484828</td><td>104.439766</td><td>2.9570596</td><td>2000290819</td><td>0.4680865</td><td>0.99970347</td><td>None</td><td>None</td><td>[]</td><td>[]</td></tr>\n",
       "<tr><td>109</td><td>0.4413634</td><td>58.509466974185045</td><td>-26.989676182075844</td><td>103.49396</td><td>3.3524604</td><td>2000286447</td><td>0.44349608</td><td>0.99999905</td><td>None</td><td>None</td><td>[]</td><td>[]</td></tr>\n",
       "<tr><td>116</td><td>1.0629631</td><td>54.494027152041674</td><td>-27.896589555863095</td><td>76.85877</td><td>2.2175314</td><td>1940324795</td><td>1.0758829</td><td>0.6544826</td><td>None</td><td>None</td><td>[]</td><td>[]</td></tr>\n",
       "<tr><td>133</td><td>1.037697</td><td>58.137368555958155</td><td>-27.199784884537003</td><td>75.89771</td><td>2.26323</td><td>2002528355</td><td>1.0311339</td><td>0.991116</td><td>None</td><td>None</td><td>[]</td><td>[]</td></tr>\n",
       "<tr><td>151</td><td>1.0760663</td><td>56.70614163063158</td><td>-27.54965595251503</td><td>73.22809</td><td>2.411495</td><td>2002792554</td><td>1.0825598</td><td>0.9999958</td><td>None</td><td>None</td><td>[]</td><td>[]</td></tr>\n",
       "<tr><td>...</td><td>...</td><td>...</td><td>...</td><td>...</td><td>...</td><td>...</td><td>...</td><td>...</td><td>...</td><td>...</td><td>...</td><td>...</td></tr>\n",
       "<tr><td>88669</td><td>1.1347386</td><td>68.97659374968845</td><td>-43.46226537592641</td><td>6.5180874</td><td>1.1459903</td><td>11315873807</td><td>1.2043793</td><td>0.99999994</td><td>None</td><td>None</td><td>[]</td><td>[]</td></tr>\n",
       "<tr><td>21720</td><td>1.133446</td><td>67.80686586780557</td><td>-45.04968907693027</td><td>10.81999</td><td>1.5633166</td><td>11940608972</td><td>1.1316372</td><td>0.94121623</td><td>None</td><td>None</td><td>[]</td><td>[]</td></tr>\n",
       "<tr><td>84643</td><td>1.1440023</td><td>69.32447991359263</td><td>-44.58164957988367</td><td>5.1451397</td><td>1.4131594</td><td>12003349376</td><td>1.2002995</td><td>0.94542605</td><td>None</td><td>None</td><td>[]</td><td>[]</td></tr>\n",
       "<tr><td>35682</td><td>0.47193053</td><td>69.5183602456607</td><td>-44.85610621353534</td><td>5.9383984</td><td>1.2630464</td><td>12000315335</td><td>0.47074133</td><td>0.89693886</td><td>None</td><td>None</td><td>[]</td><td>[]</td></tr>\n",
       "<tr><td>54206</td><td>0.5012809</td><td>70.47296979578381</td><td>-44.81929434112701</td><td>5.2824345</td><td>1.234711</td><td>12000459039</td><td>0.50687563</td><td>0.85845697</td><td>None</td><td>None</td><td>[]</td><td>[]</td></tr>\n",
       "<tr><td>29100</td><td>1.1359326</td><td>66.93469285125511</td><td>-45.3464905749836</td><td>5.3739643</td><td>1.7012949</td><td>11940894380</td><td>1.1941854</td><td>0.8403742</td><td>None</td><td>None</td><td>[]</td><td>[]</td></tr>\n",
       "<tr><td>97018</td><td>1.1348144</td><td>71.14867155851915</td><td>-45.04493556544232</td><td>7.5554256</td><td>1.5348982</td><td>12003351933</td><td>1.1928569</td><td>0.9071249</td><td>None</td><td>None</td><td>[]</td><td>[]</td></tr>\n",
       "<tr><td>97912</td><td>0.21152088</td><td>71.59288528630849</td><td>-44.833270342288635</td><td>5.007845</td><td>0.8978684</td><td>12000026207</td><td>0.20771948</td><td>0.7053878</td><td>None</td><td>None</td><td>[]</td><td>[]</td></tr>\n",
       "<tr><td>37112</td><td>1.1475015</td><td>69.36171381510071</td><td>-44.138625691755685</td><td>5.3587093</td><td>1.4293212</td><td>11315864504</td><td>1.1517015</td><td>0.9720678</td><td>None</td><td>None</td><td>[]</td><td>[]</td></tr>\n",
       "<tr><td>74968</td><td>0.9184803</td><td>70.4738860743343</td><td>-44.583719372027936</td><td>5.1298847</td><td>1.5429279</td><td>12001980394</td><td>0.93659854</td><td>0.99953824</td><td>None</td><td>None</td><td>[]</td><td>[]</td></tr>\n",
       "</table></div>"
      ],
      "text/plain": [
       "<clevar.catalog.ClCatalog at 0x7f357a132b20>"
      ]
     },
     "execution_count": 23,
     "metadata": {},
     "output_type": "execute_result"
    }
   ],
   "source": [
    "RM_cat"
   ]
  },
  {
   "cell_type": "code",
   "execution_count": 24,
   "id": "16a008c9-aa3c-4f1b-ab3b-92c0afc25c92",
   "metadata": {},
   "outputs": [
    {
     "data": {
      "text/html": [
       "<b>halo_cat</b><br></b><b>tags:</b> id(id), mass_fof(mass), z(z), ra(ra), dec(dec)<br><b>Radius unit:</b> None<br><div><i>ClData length=278904</i>\n",
       "<table id=\"table139867729534304\" class=\"table-striped table-bordered table-condensed\">\n",
       "<thead><tr><th>id</th><th>z</th><th>ra</th><th>dec</th><th>mass_fof (mass)</th><th>mt_self</th><th>mt_other</th><th>mt_multi_self</th><th>mt_multi_other</th></tr></thead>\n",
       "<thead><tr><th>str21</th><th>float64</th><th>float64</th><th>float64</th><th>float64</th><th>object</th><th>object</th><th>object</th><th>object</th></tr></thead>\n",
       "<tr><td>4500151475</td><td>0.04818676962281132</td><td>49.6366034309591</td><td>-40.400894272468605</td><td>16891355712901.41</td><td>None</td><td>None</td><td>[]</td><td>[]</td></tr>\n",
       "<tr><td>7300151475</td><td>0.04825926322238838</td><td>50.957598308861314</td><td>-41.3447799174979</td><td>74621860826501.4</td><td>None</td><td>None</td><td>[]</td><td>[]</td></tr>\n",
       "<tr><td>13700151475</td><td>0.04554516035339984</td><td>51.00887984172898</td><td>-40.832338501224754</td><td>33506664194163.383</td><td>None</td><td>None</td><td>[]</td><td>[]</td></tr>\n",
       "<tr><td>1100151464</td><td>0.0643846735498792</td><td>50.57641425057562</td><td>-41.15855360868742</td><td>17911434075583.098</td><td>None</td><td>None</td><td>[]</td><td>[]</td></tr>\n",
       "<tr><td>18300151442</td><td>0.10736840205357634</td><td>50.77601162448169</td><td>-39.168679326038024</td><td>13042641686354.93</td><td>None</td><td>None</td><td>[]</td><td>[]</td></tr>\n",
       "<tr><td>36400151442</td><td>0.12743613052494784</td><td>50.60510200022939</td><td>-39.336294511446724</td><td>48388878878287.33</td><td>None</td><td>None</td><td>[]</td><td>[]</td></tr>\n",
       "<tr><td>43700151442</td><td>0.11375834498747261</td><td>49.50475455575477</td><td>-40.23977306100707</td><td>69213477135143.664</td><td>None</td><td>None</td><td>[]</td><td>[]</td></tr>\n",
       "<tr><td>52300151442</td><td>0.1259639067546261</td><td>51.070122482361214</td><td>-39.64548257286864</td><td>62974036412214.086</td><td>None</td><td>None</td><td>[]</td><td>[]</td></tr>\n",
       "<tr><td>1200151432</td><td>0.12775858760889358</td><td>50.36982165635327</td><td>-39.09754001831282</td><td>34125997485791.55</td><td>None</td><td>None</td><td>[]</td><td>[]</td></tr>\n",
       "<tr><td>19600151432</td><td>0.13821494293793823</td><td>49.86690991730185</td><td>-40.93221573630326</td><td>11907928860123.943</td><td>None</td><td>None</td><td>[]</td><td>[]</td></tr>\n",
       "<tr><td>...</td><td>...</td><td>...</td><td>...</td><td>...</td><td>...</td><td>...</td><td>...</td><td>...</td></tr>\n",
       "<tr><td>6091300146213</td><td>1.2625853945182262</td><td>74.38010798836815</td><td>-38.574645720572</td><td>13846734069183.1</td><td>None</td><td>None</td><td>[]</td><td>[]</td></tr>\n",
       "<tr><td>6095500146213</td><td>1.267425334206672</td><td>75.30558060065206</td><td>-38.8412871385436</td><td>14156400714997.184</td><td>None</td><td>None</td><td>[]</td><td>[]</td></tr>\n",
       "<tr><td>6106400146213</td><td>1.2931724979720847</td><td>74.82846476392199</td><td>-38.558346925145464</td><td>10359156262940.846</td><td>None</td><td>None</td><td>[]</td><td>[]</td></tr>\n",
       "<tr><td>6123100146213</td><td>1.2852358160856836</td><td>73.73760283855474</td><td>-38.742093107031195</td><td>17406599375684.508</td><td>None</td><td>None</td><td>[]</td><td>[]</td></tr>\n",
       "<tr><td>6152300146213</td><td>1.2560346681001398</td><td>75.61151578715197</td><td>-38.343061455787215</td><td>11642424986321.127</td><td>None</td><td>None</td><td>[]</td><td>[]</td></tr>\n",
       "<tr><td>6250200146213</td><td>1.289686622582011</td><td>74.31651643924754</td><td>-38.66501220622716</td><td>21263120124394.367</td><td>None</td><td>None</td><td>[]</td><td>[]</td></tr>\n",
       "<tr><td>6252500146213</td><td>1.2843633617979462</td><td>74.94785177056964</td><td>-39.342213537243545</td><td>12490966653476.057</td><td>None</td><td>None</td><td>[]</td><td>[]</td></tr>\n",
       "<tr><td>6320200146213</td><td>1.2670298331719114</td><td>74.89234406433944</td><td>-38.162287284366855</td><td>45341654993847.89</td><td>None</td><td>None</td><td>[]</td><td>[]</td></tr>\n",
       "<tr><td>6335600146213</td><td>1.2911782632587196</td><td>73.42637661139285</td><td>-38.51869944682166</td><td>87303947439954.94</td><td>None</td><td>None</td><td>[]</td><td>[]</td></tr>\n",
       "<tr><td>6344000146213</td><td>1.2659415195960086</td><td>74.38728727395909</td><td>-37.42575429027717</td><td>17385781449915.494</td><td>None</td><td>None</td><td>[]</td><td>[]</td></tr>\n",
       "</table></div>"
      ],
      "text/plain": [
       "<clevar.catalog.ClCatalog at 0x7f357a132040>"
      ]
     },
     "execution_count": 24,
     "metadata": {},
     "output_type": "execute_result"
    }
   ],
   "source": [
    "halo_cat"
   ]
  },
  {
   "cell_type": "markdown",
   "id": "32bc4125-b825-4aa7-b207-4988b5910cbd",
   "metadata": {},
   "source": [
    "# 3 - associate redMaPPer detections to true DC2 halos"
   ]
  },
  {
   "cell_type": "markdown",
   "id": "3019a6ff-7cd5-41cf-a329-1652326f9d76",
   "metadata": {},
   "source": [
    "### two way matches"
   ]
  },
  {
   "cell_type": "code",
   "execution_count": 53,
   "id": "03b385d6-7c77-4743-ad37-8e6df99a65e9",
   "metadata": {},
   "outputs": [],
   "source": [
    "RM_cat._init_match_vals(True)\n",
    "halo_cat._init_match_vals(True)"
   ]
  },
  {
   "cell_type": "code",
   "execution_count": 54,
   "id": "f46bce45-467b-4283-8fce-56f81dcde007",
   "metadata": {},
   "outputs": [],
   "source": [
    "from clevar.match import MembershipMatch"
   ]
  },
  {
   "cell_type": "code",
   "execution_count": 55,
   "id": "4a70d052-bac9-43fc-ab55-cbfef74a9530",
   "metadata": {},
   "outputs": [],
   "source": [
    "mt = MembershipMatch()"
   ]
  },
  {
   "cell_type": "code",
   "execution_count": 27,
   "id": "d2d5d3de-7110-4a9e-8cc0-75740073423f",
   "metadata": {},
   "outputs": [],
   "source": [
    "match_config = {\n",
    "    'type': 'cross', # options are cross, cat1, cat2\n",
    "    'preference': 'shared_member_fraction', # other options are more_massive, angular_proximity or redshift_proximity\n",
    "    'minimum_share_fraction': 0,\n",
    "    'match_members_kwargs': {'method':'id'},\n",
    "}"
   ]
  },
  {
   "cell_type": "code",
   "execution_count": 28,
   "id": "af7c27b3-d503-416d-8674-cf7a19f19f63",
   "metadata": {},
   "outputs": [
    {
     "name": "stdout",
     "output_type": "stream",
     "text": [
      "1,093,872 members were matched.\n",
      "\n",
      "## Multiple match (catalog 1)\n",
      "Finding candidates (RM_cat)\n",
      "* 43,211/45,081 objects matched.\n",
      "\n",
      "## Multiple match (catalog 2)\n",
      "Finding candidates (halo_cat)\n",
      "* 75,514/278,904 objects matched.\n",
      "\n",
      "## Finding unique matches of catalog 1\n",
      "Unique Matches (RM_cat)\n",
      "* 42,973/45,081 objects matched.\n",
      "\n",
      "## Finding unique matches of catalog 2\n",
      "Unique Matches (halo_cat)\n",
      "* 42,825/278,904 objects matched.\n",
      "Cross Matches (RM_cat)\n",
      "* 42,754/45,081 objects matched.\n",
      "Cross Matches (halo_cat)\n",
      "* 42,754/278,904 objects matched.\n"
     ]
    }
   ],
   "source": [
    "mt.match_from_config(RM_cat, halo_cat, match_config)"
   ]
  },
  {
   "cell_type": "code",
   "execution_count": 29,
   "id": "88b15829-1be0-4a57-a462-f9aed0328dc1",
   "metadata": {},
   "outputs": [],
   "source": [
    "mt.save_matches(RM_cat, halo_cat, out_dir='cosmoDC2_RM_match_cross_membership', overwrite=True)"
   ]
  },
  {
   "cell_type": "code",
   "execution_count": 56,
   "id": "0cbe566d-872c-4165-9a71-c093bc3d1e90",
   "metadata": {},
   "outputs": [
    {
     "name": "stdout",
     "output_type": "stream",
     "text": [
      "RM_cat\n",
      "    * ClEvar used in matching: 0.13.5\n",
      " * Total objects:    45,081\n",
      " * multiple (self):  43,211\n",
      " * multiple (other): 43,211\n",
      " * unique (self):    42,973\n",
      " * unique (other):   42,825\n",
      " * cross:            42,754\n",
      "\n",
      "halo_cat\n",
      "    * ClEvar used in matching: 0.13.5\n",
      " * Total objects:    278,904\n",
      " * multiple (self):  75,514\n",
      " * multiple (other): 75,514\n",
      " * unique (self):    42,825\n",
      " * unique (other):   42,973\n",
      " * cross:            42,754\n"
     ]
    },
    {
     "data": {
      "text/html": [
       "<b>RM_cat</b><br></b><b>tags:</b> id(id), richness(mass), z(z), ra(ra), dec(dec)<br><b>Radius unit:</b> None<br><div><i>ClData length=45081</i>\n",
       "<table id=\"table139726905020864\" class=\"table-striped table-bordered table-condensed\">\n",
       "<thead><tr><th>id</th><th>z</th><th>ra</th><th>dec</th><th>richness (mass)</th><th>richness_err</th><th>id_cg</th><th>ztrue_cg</th><th>p_cg_0</th><th>mt_self</th><th>mt_other</th><th>mt_multi_self</th><th>mt_multi_other</th><th>mt_frac_self</th><th>mt_frac_other</th><th>mt_cross</th></tr></thead>\n",
       "<thead><tr><th>str11</th><th>float32</th><th>float64</th><th>float64</th><th>float32</th><th>float32</th><th>int64</th><th>float32</th><th>float32</th><th>object</th><th>object</th><th>object</th><th>object</th><th>float64</th><th>float64</th><th>object</th></tr></thead>\n",
       "<tr><td>10</td><td>0.5135129</td><td>52.520436430812914</td><td>-25.717996124671657</td><td>190.70665</td><td>3.7469666</td><td>1312945563</td><td>0.51072353</td><td>0.79138356</td><td>1162500021323</td><td>1162500021323</td><td>[&apos;1162500021323&apos;, &apos;922700021315&apos;, &apos;205900021323&apos;, &apos;417800021323&apos;, &apos;665600021315&apos;, &apos;1361100021315&apos;, &apos;711400021315&apos;, &apos;80500021323&apos;]</td><td>[&apos;80500021323&apos;, &apos;922700021315&apos;, &apos;205900021323&apos;, &apos;417800021323&apos;, &apos;665600021315&apos;, &apos;1361100021315&apos;, &apos;711400021315&apos;, &apos;1162500021323&apos;]</td><td>0.4496726208984491</td><td>0.30094043887147337</td><td>1162500021323</td></tr>\n",
       "<tr><td>18</td><td>0.5712697</td><td>56.920376528125075</td><td>-27.20434071042304</td><td>179.12813</td><td>3.6934361</td><td>2000524808</td><td>0.5740297</td><td>0.99996513</td><td>549500032315</td><td>549500032315</td><td>[&apos;549500032315&apos;]</td><td>[&apos;549500032315&apos;]</td><td>0.9421648861882373</td><td>0.35064935064935066</td><td>549500032315</td></tr>\n",
       "<tr><td>24</td><td>1.040338</td><td>56.99849698116052</td><td>-26.7172081871169</td><td>124.02715</td><td>2.4172914</td><td>2002535198</td><td>1.0347759</td><td>0.93527913</td><td>2554900032241</td><td>2554900032241</td><td>[&apos;2554900032241&apos;, &apos;1212700032259&apos;, &apos;3011300032241&apos;]</td><td>[&apos;2554900032241&apos;, &apos;1212700032259&apos;, &apos;3011300032241&apos;]</td><td>0.9468829847683286</td><td>0.28444444444444444</td><td>2554900032241</td></tr>\n",
       "<tr><td>30</td><td>0.63518524</td><td>58.56362402841767</td><td>-27.429961828331713</td><td>167.33603</td><td>3.6777163</td><td>2000759779</td><td>0.6426174</td><td>0.9958548</td><td>1275900032300</td><td>1275900032300</td><td>[&apos;6600032300&apos;, &apos;1275900032300&apos;, &apos;23400032300&apos;]</td><td>[&apos;6600032300&apos;, &apos;1275900032300&apos;, &apos;23400032300&apos;]</td><td>0.9812835255072209</td><td>0.2767857142857143</td><td>1275900032300</td></tr>\n",
       "<tr><td>71</td><td>0.44230303</td><td>58.35519782866568</td><td>-26.867687128773035</td><td>111.9147</td><td>3.366554</td><td>2000289335</td><td>0.43919736</td><td>0.7297119</td><td>564000032338</td><td>564000032338</td><td>[&apos;161400032338&apos;, &apos;359200032338&apos;, &apos;731900032338&apos;, &apos;564000032338&apos;, &apos;778100032338&apos;, &apos;243000032347&apos;]</td><td>[&apos;161400032338&apos;, &apos;359200032338&apos;, &apos;731900032338&apos;, &apos;564000032338&apos;, &apos;778100032338&apos;, &apos;243000032347&apos;]</td><td>0.5346957617359577</td><td>0.2518518518518518</td><td>564000032338</td></tr>\n",
       "<tr><td>73</td><td>0.46697217</td><td>57.76575707007693</td><td>-28.119101936484828</td><td>104.439766</td><td>2.9570596</td><td>2000290819</td><td>0.4680865</td><td>0.99970347</td><td>459400032338</td><td>459400032338</td><td>[&apos;2200032331&apos;, &apos;459400032338&apos;, &apos;980800032331&apos;]</td><td>[&apos;2200032331&apos;, &apos;459400032338&apos;, &apos;980800032331&apos;]</td><td>0.9046435837281485</td><td>0.2780612244897959</td><td>459400032338</td></tr>\n",
       "<tr><td>109</td><td>0.4413634</td><td>58.509466974185045</td><td>-26.989676182075844</td><td>103.49396</td><td>3.3524604</td><td>2000286447</td><td>0.44349608</td><td>0.99999905</td><td>156700032338</td><td>156700032338</td><td>[&apos;156700032338&apos;, &apos;433200032355&apos;]</td><td>[&apos;156700032338&apos;, &apos;433200032355&apos;]</td><td>0.9589822433529834</td><td>0.28672985781990523</td><td>156700032338</td></tr>\n",
       "<tr><td>116</td><td>1.0629631</td><td>54.494027152041674</td><td>-27.896589555863095</td><td>76.85877</td><td>2.2175314</td><td>1940324795</td><td>1.0758829</td><td>0.6544826</td><td>3080200031235</td><td>3080200031235</td><td>[&apos;3080200031235&apos;, &apos;2468800031230&apos;]</td><td>[&apos;3080200031235&apos;, &apos;2468800031230&apos;]</td><td>0.9300718737691595</td><td>0.2791519434628975</td><td>3080200031235</td></tr>\n",
       "<tr><td>133</td><td>1.037697</td><td>58.137368555958155</td><td>-27.199784884537003</td><td>75.89771</td><td>2.26323</td><td>2002528355</td><td>1.0311339</td><td>0.991116</td><td>2067100032241</td><td>2067100032241</td><td>[&apos;2067100032241&apos;, &apos;2412900032235&apos;, &apos;1231200032230&apos;, &apos;1539400032241&apos;]</td><td>[&apos;2067100032241&apos;, &apos;2412900032235&apos;, &apos;1231200032230&apos;, &apos;1539400032241&apos;]</td><td>0.9547645155057961</td><td>0.29213483146067415</td><td>2067100032241</td></tr>\n",
       "<tr><td>151</td><td>1.0760663</td><td>56.70614163063158</td><td>-27.54965595251503</td><td>73.22809</td><td>2.411495</td><td>2002792554</td><td>1.0825598</td><td>0.9999958</td><td>811100032235</td><td>811100032235</td><td>[&apos;811100032235&apos;, &apos;1287000032272&apos;, &apos;4085400032241&apos;]</td><td>[&apos;811100032235&apos;, &apos;1287000032272&apos;, &apos;4085400032241&apos;]</td><td>0.9183204042555395</td><td>0.2900763358778626</td><td>811100032235</td></tr>\n",
       "<tr><td>...</td><td>...</td><td>...</td><td>...</td><td>...</td><td>...</td><td>...</td><td>...</td><td>...</td><td>...</td><td>...</td><td>...</td><td>...</td><td>...</td><td>...</td><td>...</td></tr>\n",
       "<tr><td>88669</td><td>1.1347386</td><td>68.97659374968845</td><td>-43.46226537592641</td><td>6.5180874</td><td>1.1459903</td><td>11315873807</td><td>1.2043793</td><td>0.99999994</td><td>2633800181224</td><td>2633800181224</td><td>[&apos;2633800181224&apos;]</td><td>[&apos;2633800181224&apos;]</td><td>0.9497986815344499</td><td>0.1568627450980392</td><td>2633800181224</td></tr>\n",
       "<tr><td>21720</td><td>1.133446</td><td>67.80686586780557</td><td>-45.04968907693027</td><td>10.81999</td><td>1.5633166</td><td>11940608972</td><td>1.1316372</td><td>0.94121623</td><td>2358500191230</td><td>2358500191230</td><td>[&apos;2358500191230&apos;]</td><td>[&apos;2358500191230&apos;]</td><td>0.8824831649287685</td><td>0.1625</td><td>2358500191230</td></tr>\n",
       "<tr><td>84643</td><td>1.1440023</td><td>69.32447991359263</td><td>-44.58164957988367</td><td>5.1451397</td><td>1.4131594</td><td>12003349376</td><td>1.2002995</td><td>0.94542605</td><td>2329600192224</td><td>2329600192224</td><td>[&apos;2329600192224&apos;, &apos;2596200192213&apos;, &apos;1786400192230&apos;, &apos;541200192247&apos;]</td><td>[&apos;2329600192224&apos;, &apos;2596200192213&apos;, &apos;1786400192230&apos;, &apos;541200192247&apos;]</td><td>0.5287848116344998</td><td>0.12195121951219512</td><td>2329600192224</td></tr>\n",
       "<tr><td>35682</td><td>0.47193053</td><td>69.5183602456607</td><td>-44.85610621353534</td><td>5.9383984</td><td>1.2630464</td><td>12000315335</td><td>0.47074133</td><td>0.89693886</td><td>696100192331</td><td>696100192331</td><td>[&apos;696100192331&apos;]</td><td>[&apos;696100192331&apos;]</td><td>0.017778697678850017</td><td>0.030303030303030304</td><td>696100192331</td></tr>\n",
       "<tr><td>54206</td><td>0.5012809</td><td>70.47296979578381</td><td>-44.81929434112701</td><td>5.2824345</td><td>1.234711</td><td>12000459039</td><td>0.50687563</td><td>0.85845697</td><td>958400192323</td><td>958400192323</td><td>[&apos;943400192331&apos;, &apos;958400192323&apos;]</td><td>[&apos;943400192331&apos;, &apos;958400192323&apos;]</td><td>0.7348789770590428</td><td>0.2727272727272727</td><td>958400192323</td></tr>\n",
       "<tr><td>29100</td><td>1.1359326</td><td>66.93469285125511</td><td>-45.3464905749836</td><td>5.3739643</td><td>1.7012949</td><td>11940894380</td><td>1.1941854</td><td>0.8403742</td><td>3554200191224</td><td>3554200191224</td><td>[&apos;3336200191235&apos;, &apos;3535600191224&apos;, &apos;3554200191224&apos;]</td><td>[&apos;3336200191235&apos;, &apos;3535600191224&apos;, &apos;3554200191224&apos;]</td><td>0.7996905046086651</td><td>0.16393442622950818</td><td>3554200191224</td></tr>\n",
       "<tr><td>97018</td><td>1.1348144</td><td>71.14867155851915</td><td>-45.04493556544232</td><td>7.5554256</td><td>1.5348982</td><td>12003351933</td><td>1.1928569</td><td>0.9071249</td><td>2509400192224</td><td>2509400192224</td><td>[&apos;2509400192224&apos;, &apos;2022200192235&apos;]</td><td>[&apos;2509400192224&apos;, &apos;2022200192235&apos;]</td><td>0.7451329708867663</td><td>0.09900990099009901</td><td>2509400192224</td></tr>\n",
       "<tr><td>97912</td><td>0.21152088</td><td>71.59288528630849</td><td>-44.833270342288635</td><td>5.007845</td><td>0.8978684</td><td>12000026207</td><td>0.20771948</td><td>0.7053878</td><td>314500192401</td><td>314500192401</td><td>[&apos;451400192373&apos;, &apos;314500192401&apos;, &apos;320200192382&apos;]</td><td>[&apos;451400192373&apos;, &apos;314500192401&apos;, &apos;320200192382&apos;]</td><td>0.47681663911539257</td><td>0.21428571428571427</td><td>314500192401</td></tr>\n",
       "<tr><td>37112</td><td>1.1475015</td><td>69.36171381510071</td><td>-44.138625691755685</td><td>5.3587093</td><td>1.4293212</td><td>11315864504</td><td>1.1517015</td><td>0.9720678</td><td>1958200181224</td><td>1958200181224</td><td>[&apos;2037700181253&apos;, &apos;1958200181224&apos;]</td><td>[&apos;2037700181253&apos;, &apos;1958200181224&apos;]</td><td>0.8709066517243511</td><td>0.19148936170212766</td><td>1958200181224</td></tr>\n",
       "<tr><td>74968</td><td>0.9184803</td><td>70.4738860743343</td><td>-44.583719372027936</td><td>5.1298847</td><td>1.5429279</td><td>12001980394</td><td>0.93659854</td><td>0.99953824</td><td>1860600192253</td><td>1860600192253</td><td>[&apos;904100192259&apos;, &apos;3061600192253&apos;, &apos;1860600192253&apos;]</td><td>[&apos;904100192259&apos;, &apos;3061600192253&apos;, &apos;1860600192253&apos;]</td><td>0.702194475807478</td><td>0.15555555555555556</td><td>1860600192253</td></tr>\n",
       "</table></div>"
      ],
      "text/plain": [
       "<clevar.catalog.ClCatalog at 0x7f14b4fb52e0>"
      ]
     },
     "metadata": {},
     "output_type": "display_data"
    },
    {
     "data": {
      "text/html": [
       "<b>halo_cat</b><br></b><b>tags:</b> id(id), mass_fof(mass), z(z), ra(ra), dec(dec)<br><b>Radius unit:</b> None<br><div><i>ClData length=278904</i>\n",
       "<table id=\"table139726905021776\" class=\"table-striped table-bordered table-condensed\">\n",
       "<thead><tr><th>id</th><th>z</th><th>ra</th><th>dec</th><th>mass_fof (mass)</th><th>mt_self</th><th>mt_other</th><th>mt_multi_self</th><th>mt_multi_other</th><th>mt_frac_other</th><th>mt_frac_self</th><th>mt_cross</th></tr></thead>\n",
       "<thead><tr><th>str21</th><th>float64</th><th>float64</th><th>float64</th><th>float64</th><th>object</th><th>object</th><th>object</th><th>object</th><th>float64</th><th>float64</th><th>object</th></tr></thead>\n",
       "<tr><td>4500151475</td><td>0.04818676962281132</td><td>49.6366034309591</td><td>-40.400894272468605</td><td>16891355712901.41</td><td>None</td><td>None</td><td>[]</td><td>[]</td><td>0.0</td><td>0.0</td><td>None</td></tr>\n",
       "<tr><td>7300151475</td><td>0.04825926322238838</td><td>50.957598308861314</td><td>-41.3447799174979</td><td>74621860826501.4</td><td>None</td><td>None</td><td>[]</td><td>[]</td><td>0.0</td><td>0.0</td><td>None</td></tr>\n",
       "<tr><td>13700151475</td><td>0.04554516035339984</td><td>51.00887984172898</td><td>-40.832338501224754</td><td>33506664194163.383</td><td>None</td><td>None</td><td>[]</td><td>[]</td><td>0.0</td><td>0.0</td><td>None</td></tr>\n",
       "<tr><td>1100151464</td><td>0.0643846735498792</td><td>50.57641425057562</td><td>-41.15855360868742</td><td>17911434075583.098</td><td>None</td><td>None</td><td>[]</td><td>[]</td><td>0.0</td><td>0.0</td><td>None</td></tr>\n",
       "<tr><td>18300151442</td><td>0.10736840205357634</td><td>50.77601162448169</td><td>-39.168679326038024</td><td>13042641686354.93</td><td>None</td><td>None</td><td>[&apos;61429&apos;]</td><td>[&apos;61429&apos;]</td><td>0.0</td><td>0.0</td><td>None</td></tr>\n",
       "<tr><td>36400151442</td><td>0.12743613052494784</td><td>50.60510200022939</td><td>-39.336294511446724</td><td>48388878878287.33</td><td>61429</td><td>61429</td><td>[&apos;61429&apos;]</td><td>[&apos;61429&apos;]</td><td>0.3109591404426815</td><td>0.14285714285714285</td><td>61429</td></tr>\n",
       "<tr><td>43700151442</td><td>0.11375834498747261</td><td>49.50475455575477</td><td>-40.23977306100707</td><td>69213477135143.664</td><td>9079</td><td>9079</td><td>[&apos;9079&apos;]</td><td>[&apos;9079&apos;]</td><td>0.6519780825634661</td><td>0.2127659574468085</td><td>9079</td></tr>\n",
       "<tr><td>52300151442</td><td>0.1259639067546261</td><td>51.070122482361214</td><td>-39.64548257286864</td><td>62974036412214.086</td><td>19251</td><td>19251</td><td>[&apos;19251&apos;]</td><td>[&apos;19251&apos;]</td><td>0.8549697013802018</td><td>0.1206896551724138</td><td>19251</td></tr>\n",
       "<tr><td>1200151432</td><td>0.12775858760889358</td><td>50.36982165635327</td><td>-39.09754001831282</td><td>34125997485791.55</td><td>None</td><td>None</td><td>[]</td><td>[]</td><td>0.0</td><td>0.0</td><td>None</td></tr>\n",
       "<tr><td>19600151432</td><td>0.13821494293793823</td><td>49.86690991730185</td><td>-40.93221573630326</td><td>11907928860123.943</td><td>None</td><td>None</td><td>[]</td><td>[]</td><td>0.0</td><td>0.0</td><td>None</td></tr>\n",
       "<tr><td>...</td><td>...</td><td>...</td><td>...</td><td>...</td><td>...</td><td>...</td><td>...</td><td>...</td><td>...</td><td>...</td><td>...</td></tr>\n",
       "<tr><td>6091300146213</td><td>1.2625853945182262</td><td>74.38010798836815</td><td>-38.574645720572</td><td>13846734069183.1</td><td>None</td><td>None</td><td>[]</td><td>[]</td><td>0.0</td><td>0.0</td><td>None</td></tr>\n",
       "<tr><td>6095500146213</td><td>1.267425334206672</td><td>75.30558060065206</td><td>-38.8412871385436</td><td>14156400714997.184</td><td>None</td><td>None</td><td>[]</td><td>[]</td><td>0.0</td><td>0.0</td><td>None</td></tr>\n",
       "<tr><td>6106400146213</td><td>1.2931724979720847</td><td>74.82846476392199</td><td>-38.558346925145464</td><td>10359156262940.846</td><td>None</td><td>None</td><td>[]</td><td>[]</td><td>0.0</td><td>0.0</td><td>None</td></tr>\n",
       "<tr><td>6123100146213</td><td>1.2852358160856836</td><td>73.73760283855474</td><td>-38.742093107031195</td><td>17406599375684.508</td><td>None</td><td>None</td><td>[]</td><td>[]</td><td>0.0</td><td>0.0</td><td>None</td></tr>\n",
       "<tr><td>6152300146213</td><td>1.2560346681001398</td><td>75.61151578715197</td><td>-38.343061455787215</td><td>11642424986321.127</td><td>None</td><td>None</td><td>[]</td><td>[]</td><td>0.0</td><td>0.0</td><td>None</td></tr>\n",
       "<tr><td>6250200146213</td><td>1.289686622582011</td><td>74.31651643924754</td><td>-38.66501220622716</td><td>21263120124394.367</td><td>None</td><td>None</td><td>[]</td><td>[]</td><td>0.0</td><td>0.0</td><td>None</td></tr>\n",
       "<tr><td>6252500146213</td><td>1.2843633617979462</td><td>74.94785177056964</td><td>-39.342213537243545</td><td>12490966653476.057</td><td>None</td><td>None</td><td>[]</td><td>[]</td><td>0.0</td><td>0.0</td><td>None</td></tr>\n",
       "<tr><td>6320200146213</td><td>1.2670298331719114</td><td>74.89234406433944</td><td>-38.162287284366855</td><td>45341654993847.89</td><td>None</td><td>None</td><td>[]</td><td>[]</td><td>0.0</td><td>0.0</td><td>None</td></tr>\n",
       "<tr><td>6335600146213</td><td>1.2911782632587196</td><td>73.42637661139285</td><td>-38.51869944682166</td><td>87303947439954.94</td><td>None</td><td>None</td><td>[]</td><td>[]</td><td>0.0</td><td>0.0</td><td>None</td></tr>\n",
       "<tr><td>6344000146213</td><td>1.2659415195960086</td><td>74.38728727395909</td><td>-37.42575429027717</td><td>17385781449915.494</td><td>None</td><td>None</td><td>[]</td><td>[]</td><td>0.0</td><td>0.0</td><td>None</td></tr>\n",
       "</table></div>"
      ],
      "text/plain": [
       "<clevar.catalog.ClCatalog at 0x7f14b4935340>"
      ]
     },
     "metadata": {},
     "output_type": "display_data"
    }
   ],
   "source": [
    "mt.load_matches(RM_cat, halo_cat, out_dir='cosmoDC2_RM_match_cross_membership')\n",
    "display(RM_cat)\n",
    "display(halo_cat)"
   ]
  },
  {
   "cell_type": "markdown",
   "id": "ae5782b4-1bf7-453b-acf3-e0742c610ba9",
   "metadata": {},
   "source": [
    "### bijective association"
   ]
  },
  {
   "cell_type": "code",
   "execution_count": 59,
   "id": "23f0badc-7c7c-4622-b036-a1e44aa27e12",
   "metadata": {},
   "outputs": [],
   "source": [
    "from clevar.match import get_matched_pairs"
   ]
  },
  {
   "cell_type": "code",
   "execution_count": 223,
   "id": "3912e0f9-ff29-439e-9b28-0a556c833d74",
   "metadata": {},
   "outputs": [],
   "source": [
    "RM_cat_bij, halo_cat_bij = get_matched_pairs(RM_cat, halo_cat, 'cross')"
   ]
  },
  {
   "cell_type": "code",
   "execution_count": 62,
   "id": "0e70ef1f-a24e-4b12-86a2-a2222e712317",
   "metadata": {},
   "outputs": [
    {
     "data": {
      "text/plain": [
       "(42754, 0.9483818016459262, 0.15329288930958324)"
      ]
     },
     "execution_count": 62,
     "metadata": {},
     "output_type": "execute_result"
    }
   ],
   "source": [
    "RM_cat_bij.size, RM_cat_bij.size/RM_cat.size,  halo_cat_bij.size/halo_cat.size"
   ]
  },
  {
   "cell_type": "markdown",
   "id": "6be194fe-c027-4aa9-bc88-5a9bbd2629d2",
   "metadata": {},
   "source": [
    "# 4 - add SkySim info to pair catalog (beta version)"
   ]
  },
  {
   "cell_type": "code",
   "execution_count": 27,
   "id": "9f7d0a46-1c17-4d12-b5ce-2345d78ed7e1",
   "metadata": {},
   "outputs": [],
   "source": [
    "import numpy as np\n",
    "from matplotlib import pyplot as plt\n",
    "import matplotlib "
   ]
  },
  {
   "cell_type": "code",
   "execution_count": 6,
   "id": "616fba28-35d5-4017-91e6-c466aea14991",
   "metadata": {},
   "outputs": [],
   "source": [
    "from astropy.io import fits"
   ]
  },
  {
   "cell_type": "code",
   "execution_count": 12,
   "id": "be6bd1be-d3dd-403c-a609-38503f6f32f3",
   "metadata": {},
   "outputs": [],
   "source": [
    "tab = fits.open(\"/sps/lsst/groups/clusters/dc2/cosmoDC2_v1.1.4/extragal/halos/halos_m200c_13.0.fits\")[1].data"
   ]
  },
  {
   "cell_type": "code",
   "execution_count": 14,
   "id": "7f72d9ac-6ea0-43a2-803f-c1c2bdda01f5",
   "metadata": {},
   "outputs": [
    {
     "data": {
      "text/plain": [
       "ColDefs(\n",
       "    name = 'halo_id'; format = 'K'\n",
       "    name = 'ra_true'; format = 'D'\n",
       "    name = 'dec_true'; format = 'D'\n",
       "    name = 'ra'; format = 'D'\n",
       "    name = 'dec'; format = 'D'\n",
       "    name = 'redshift_true'; format = 'D'\n",
       "    name = 'mass_fof'; format = 'D'; disp = 'E11.3'\n",
       "    name = 'm200c'; format = 'D'\n",
       "    name = 'r200c'; format = 'D'\n",
       "    name = 'skysim_halo_id'; format = 'K'\n",
       "    name = 'NMEM'; format = 'K'\n",
       "    name = 'richness'; format = 'D'\n",
       "    name = 'NMEM_g_star2'; format = 'K'\n",
       "    name = 'NMEM_r_star2'; format = 'K'\n",
       "    name = 'NMEM_i_star2'; format = 'K'\n",
       "    name = 'NMEM_z_star2'; format = 'K'\n",
       "    name = 'NMEM_y_star2'; format = 'K'\n",
       "    name = 'richness_g_star2'; format = 'D'\n",
       "    name = 'richness_r_star2'; format = 'D'\n",
       "    name = 'richness_i_star2'; format = 'D'\n",
       "    name = 'richness_z_star2'; format = 'D'\n",
       "    name = 'richness_y_star2'; format = 'D'\n",
       "    name = 'ra_bary'; format = 'D'\n",
       "    name = 'dec_bary'; format = 'D'\n",
       ")"
      ]
     },
     "execution_count": 14,
     "metadata": {},
     "output_type": "execute_result"
    }
   ],
   "source": [
    "tab.columns"
   ]
  },
  {
   "cell_type": "code",
   "execution_count": 25,
   "id": "eb1dcb4b-b7fe-460f-8b51-bf78516a119b",
   "metadata": {},
   "outputs": [
    {
     "data": {
      "text/plain": [
       "(454475, 454475)"
      ]
     },
     "execution_count": 25,
     "metadata": {},
     "output_type": "execute_result"
    }
   ],
   "source": [
    "len(tab), np.sum(tab[\"m200c\"]>0)"
   ]
  },
  {
   "cell_type": "code",
   "execution_count": 142,
   "id": "dd4d19fc-35c7-41e1-82be-dde32b48fa94",
   "metadata": {},
   "outputs": [
    {
     "data": {
      "image/png": "[encoded data removed]",
      "text/plain": [
       "<Figure size 720x576 with 1 Axes>"
      ]
     },
     "metadata": {
      "needs_background": "light"
     },
     "output_type": "display_data"
    }
   ],
   "source": [
    "plt.loglog(tab[\"mass_fof\"], tab[\"m200c\"],'.',alpha=0.0025)\n",
    "plt.xlabel('Mfof')\n",
    "plt.ylabel('M200c')\n",
    "\n",
    "plt.axvline(1e13, color='red')\n",
    "plt.axhline(1e13, color='red')\n",
    "\n",
    "plt.plot((1e13,1e15),(1e13,1e15))\n",
    "plt.grid()"
   ]
  },
  {
   "cell_type": "code",
   "execution_count": 114,
   "id": "8663004e-bae8-432e-be2b-c84c5598e5d6",
   "metadata": {},
   "outputs": [],
   "source": [
    "inds = np.zeros((len(halo_cat_bij)))\n",
    "\n",
    "for i in range(len(halo_cat_bij)):\n",
    "    if np.any((tab[\"halo_id\"]==float(halo_cat_bij[\"id\"][i]))):\n",
    "        inds[i] = np.where(tab[\"halo_id\"]==float(halo_cat_bij[\"id\"][i]))[0][0]\n",
    "    else:\n",
    "        inds[i]=-9\n",
    "    "
   ]
  },
  {
   "cell_type": "code",
   "execution_count": 210,
   "id": "126dce66-1e74-44d5-9553-28ab6b67c6c4",
   "metadata": {},
   "outputs": [],
   "source": [
    "M200c = np.append(tab[\"m200c\"],np.nan)\n",
    "ss_halo_id = np.append(tab[\"skysim_halo_id\"],np.nan)"
   ]
  },
  {
   "cell_type": "code",
   "execution_count": 220,
   "id": "788e1f30-b115-4ced-a168-d982f15c7b0c",
   "metadata": {},
   "outputs": [],
   "source": [
    "inds[np.argwhere(inds==-9)]=ss_halo_id.size-1"
   ]
  },
  {
   "cell_type": "code",
   "execution_count": 222,
   "id": "8c426113-aff0-473a-b838-556ff6a033fa",
   "metadata": {},
   "outputs": [],
   "source": [
    "indices=[int(inds[i]) for i in range(len(halo_cat_bij))]"
   ]
  },
  {
   "cell_type": "code",
   "execution_count": 224,
   "id": "5b3f0248-dff0-48d5-9b36-32844ad137b5",
   "metadata": {},
   "outputs": [],
   "source": [
    "halo_cat_bij.data.add_column(M200c[indices], index=5,name='M200c')\n",
    "halo_cat_bij.data.add_column(ss_halo_id[indices], index=6,name='skysim_halo_id')"
   ]
  },
  {
   "cell_type": "code",
   "execution_count": 225,
   "id": "7fd8a42d-fb9f-4493-91af-3dc5e55ed9b9",
   "metadata": {},
   "outputs": [],
   "source": [
    "halo_cat_bij_ss = ClCatalog(name='test', data=halo_cat_bij.data)"
   ]
  },
  {
   "cell_type": "code",
   "execution_count": 226,
   "id": "3a780856-8dd5-4654-8572-c0042df4cc5c",
   "metadata": {},
   "outputs": [],
   "source": [
    "halo_cat_bij_ss.write('cosmoDC2_RM_match_cross_membership/halo_cat_bij_ss.fits', overwrite=True)"
   ]
  },
  {
   "cell_type": "code",
   "execution_count": 227,
   "id": "9a49be8c-80c3-441e-b877-644627d24ae7",
   "metadata": {},
   "outputs": [],
   "source": [
    "RM_cat_bij.write('cosmoDC2_RM_match_cross_membership/RM_cat_bij.fits', overwrite=True)"
   ]
  },
  {
   "cell_type": "code",
   "execution_count": null,
   "id": "de78bac2-1f87-43ab-bceb-1c1fde3a3573",
   "metadata": {},
   "outputs": [],
   "source": []
  }
 ],
 "metadata": {
  "kernelspec": {
   "display_name": "desc",
   "language": "python",
   "name": "desc"
  },
  "language_info": {
   "codemirror_mode": {
    "name": "ipython",
    "version": 3
   },
   "file_extension": ".py",
   "mimetype": "text/x-python",
   "name": "python",
   "nbconvert_exporter": "python",
   "pygments_lexer": "ipython3",
   "version": "3.8.8"
  }
 },
 "nbformat": 4,
 "nbformat_minor": 5
}
