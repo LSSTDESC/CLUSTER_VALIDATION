{
 "cells": [
  {
   "cell_type": "code",
   "execution_count": 1,
   "metadata": {},
   "outputs": [],
   "source": [
    "#This notebook is based on https://github.com/LSSTDESC/DC2-analysis/blob/u/erykoff/redmapper/contributed/redmapper_python1.ipynb"
   ]
  },
  {
   "cell_type": "code",
   "execution_count": 2,
   "metadata": {},
   "outputs": [
    {
     "name": "stderr",
     "output_type": "stream",
     "text": [
      "/pbs/home/m/mricci/.local/lib/python3.7/site-packages/pyfits/__init__.py:22: PyFITSDeprecationWarning: PyFITS is deprecated, please use astropy.io.fits\n",
      "  PyFITSDeprecationWarning)  # noqa\n"
     ]
    }
   ],
   "source": [
    "import GCRCatalogs\n",
    "from astropy.table import Table\n",
    "import esutil\n",
    "import numpy as np\n",
    "np.seterr(divide='ignore', invalid='ignore')\n",
    "import matplotlib.pyplot as plt\n",
    "from astropy.coordinates import SkyCoord\n",
    "from astropy import units as u\n",
    "from astropy.cosmology import FlatLambdaCDM\n",
    "from cluster_validation.association_methods import *\n",
    "from cluster_validation.plotting_functions import *\n",
    "from cluster_validation.association_statistics import *\n",
    "%matplotlib inline\n",
    "plt.rcParams['figure.figsize'] = [9.5, 6]\n",
    "plt.rcParams.update({'font.size': 18})\n",
    "#plt.rcParams['figure.figsize'] = [10, 8] for big figures"
   ]
  },
  {
   "cell_type": "code",
   "execution_count": 3,
   "metadata": {},
   "outputs": [],
   "source": [
    "plt.rcParams.update({'font.size': 18})"
   ]
  },
  {
   "cell_type": "markdown",
   "metadata": {},
   "source": [
    "# 0 - opening catalogs"
   ]
  },
  {
   "cell_type": "code",
   "execution_count": 4,
   "metadata": {},
   "outputs": [],
   "source": [
    "# Get the redMaPPer catalog\n",
    "gc = GCRCatalogs.load_catalog('cosmoDC2_v1.1.4_redmapper_v0.2.1py')"
   ]
  },
  {
   "cell_type": "code",
   "execution_count": 5,
   "metadata": {},
   "outputs": [
    {
     "name": "stdout",
     "output_type": "stream",
     "text": [
      "['dec', 'p_cen_1', 'p_cen_4', 'redshift_err', 'cluster_id', 'dec_cen_1', 'id_cen_2', 'id_cen_3', 'ra_cen_1', 'richness', 'scaleval', 'ra', 'p_cen_0', 'id_cen_0', 'ra_cen_0', 'ra_cen_2', 'dec_cen_2', 'p_cen_3', 'dec_cen_3', 'ra_cen_4', 'dec_cen_4', 'maskfrac', 'p_cen_2', 'redshift_true_cg', 'ra_cen_3', 'id_cen_4', 'dec_cen_0', 'redshift', 'id_cen_1', 'richness_err']\n"
     ]
    }
   ],
   "source": [
    "# Select out the cluster and member quantities into different lists\n",
    "quantities = gc.list_all_quantities()\n",
    "cluster_quantities = [q for q in quantities if 'member' not in q]\n",
    "member_quantities = [q for q in quantities if 'member' in q]\n",
    "print (cluster_quantities)"
   ]
  },
  {
   "cell_type": "code",
   "execution_count": null,
   "metadata": {},
   "outputs": [],
   "source": [
    "# Read in the cluster and member data\n",
    "cluster_data = Table(gc.get_quantities(cluster_quantities))\n",
    "member_data = Table(gc.get_quantities(member_quantities))"
   ]
  },
  {
   "cell_type": "code",
   "execution_count": null,
   "metadata": {},
   "outputs": [],
   "source": [
    "#read in the \"truth\" catalog as a comparison (can take a while...)\n",
    "#gc_truth = GCRCatalogs.load_catalog('cosmoDC2_v1.1.4_small')\n",
    "gc_truth = GCRCatalogs.load_catalog('cosmoDC2_v1.1.4')"
   ]
  },
  {
   "cell_type": "code",
   "execution_count": null,
   "metadata": {},
   "outputs": [],
   "source": [
    "quantities_wanted = ['mag_true_g_lsst', 'mag_true_r_lsst', 'mag_true_i_lsst', 'mag_true_z_lsst', 'mag_true_y_lsst', 'redshift','halo_mass','halo_id','galaxy_id','ra','dec']\n",
    "query = GCRCatalogs.GCRQuery('(is_central == True) & (halo_mass > 5e13)')\n",
    "truth_data = Table(gc_truth.get_quantities(quantities_wanted, [query]))"
   ]
  },
  {
   "cell_type": "code",
   "execution_count": null,
   "metadata": {},
   "outputs": [],
   "source": [
    "print(\"number of elements in the truth catalog = \", len(truth_data))\n",
    "print(\"number of elements in the detection catalog = \", len(cluster_data))"
   ]
  },
  {
   "cell_type": "markdown",
   "metadata": {},
   "source": [
    "# 1 - basic visualization"
   ]
  },
  {
   "cell_type": "code",
   "execution_count": null,
   "metadata": {},
   "outputs": [],
   "source": [
    "print(\"catalog sky area = \", gc_truth.sky_area, \"deg2\")"
   ]
  },
  {
   "cell_type": "code",
   "execution_count": null,
   "metadata": {},
   "outputs": [],
   "source": [
    "gc_truth.get_quantity_info('halo_mass') # CAREFULL THIS IS SHOULD BE Msun/h"
   ]
  },
  {
   "cell_type": "code",
   "execution_count": null,
   "metadata": {},
   "outputs": [],
   "source": [
    "plt.plot(cluster_data['ra_cen_0'],cluster_data['dec_cen_0'],'b.')\n",
    "plt.plot(truth_data['ra'],truth_data['dec'],'rx')\n",
    "plt.xlabel(\"ra\")\n",
    "plt.ylabel(\"dec\");"
   ]
  },
  {
   "cell_type": "code",
   "execution_count": null,
   "metadata": {},
   "outputs": [],
   "source": [
    "# Compare the cluster photo-z to the central galaxy redshift\n",
    "plt.plot(cluster_data['redshift'], cluster_data['redshift_true_cg'], 'r.')\n",
    "plt.plot([0.1, 1.2], [0.1, 1.2], 'k--')\n",
    "plt.xlabel('z_clus_RM')\n",
    "plt.ylabel('z_central_gal_RM');"
   ]
  },
  {
   "cell_type": "markdown",
   "metadata": {},
   "source": [
    "# 2 - associate Redmapper detections to true DC2 halos"
   ]
  },
  {
   "cell_type": "markdown",
   "metadata": {},
   "source": [
    "## geometrical matching : \n",
    "### Association of one object to another if it is the nearest (in projected distance) inside a cylinder defined by {$r_{max},\\Delta_z=\\delta_{zmax}\\times(1+z_{object})$} "
   ]
  },
  {
   "cell_type": "markdown",
   "metadata": {},
   "source": [
    "---------------------------------------------------------------------------------------"
   ]
  },
  {
   "cell_type": "code",
   "execution_count": null,
   "metadata": {},
   "outputs": [],
   "source": [
    "#define same cosmological parameters as in the truth catalog (cosmoDC2)\n",
    "cosmo = gc_truth.cosmology"
   ]
  },
  {
   "cell_type": "markdown",
   "metadata": {},
   "source": [
    "### - 1rst association criteria : $\\Delta_z=0.05, R_{max} = 0.75Mpc$ "
   ]
  },
  {
   "cell_type": "code",
   "execution_count": null,
   "metadata": {},
   "outputs": [],
   "source": [
    "#criteria\n",
    "match_num_1w_a, match_num_2w_a, ind_bij_a = volume_association(truth_data, cluster_data, 0.05, 0.75, \"fixed\", cosmo)\n",
    "#truth_to_det_match_numbers, det_to_truth_match_number, bij_ind  "
   ]
  },
  {
   "cell_type": "code",
   "execution_count": null,
   "metadata": {},
   "outputs": [],
   "source": [
    "#statistics\n",
    "print (\"number of bijective associations\", number_of_associations(truth_data, ind_bij_a))\n",
    "print (\"number and fraction of overmerging\", overmerging(match_num_2w_a, truth_data, ind_bij_a, method=\"bij\"))\n",
    "print (\"number and fraction of fragmentation\", fragmentation(match_num_1w_a, truth_data, ind_bij_a, method=\"bij\"))\n",
    "\n",
    "#sanity check\n",
    "plot_redshift_comparison(truth_data, cluster_data, ind_bij_a[:,1], ind_bij_a[:,0])"
   ]
  },
  {
   "cell_type": "markdown",
   "metadata": {},
   "source": [
    "### - 2nd association criteria : $\\Delta_z=0.05, R_{max} = 0.50Mpc$ "
   ]
  },
  {
   "cell_type": "code",
   "execution_count": null,
   "metadata": {},
   "outputs": [],
   "source": [
    "#criteria\n",
    "match_num_1w_b, match_num_2w_b, ind_bij_b = volume_association(truth_data, cluster_data, 0.05, 0.50, \"fixed\", cosmo)"
   ]
  },
  {
   "cell_type": "code",
   "execution_count": null,
   "metadata": {},
   "outputs": [],
   "source": [
    "#statistics\n",
    "print (\"number of bijective associations\", number_of_associations(truth_data, ind_bij_b))\n",
    "print (\"number and fraction of overmerging\", overmerging(match_num_2w_b, truth_data, ind_bij_b, method=\"bij\"))\n",
    "print (\"number and fraction of fragmentation\", fragmentation(match_num_1w_b, truth_data, ind_bij_b, method=\"bij\"))\n",
    "\n",
    "#sanity check\n",
    "plot_redshift_comparison(truth_data, cluster_data, ind_bij_b[:,1], ind_bij_b[:,0])\n"
   ]
  },
  {
   "cell_type": "markdown",
   "metadata": {},
   "source": [
    "### - 3rd association criteria : $\\Delta_z=0.05, R_{max} = R_{\\tilde {fof}}$,  with $R_{\\tilde {fof}} = \\left[\\frac{3}{4}\\frac{M_{fof}}{200\\pi\\rho_c(z)}\\right]^{1/3}$"
   ]
  },
  {
   "cell_type": "code",
   "execution_count": null,
   "metadata": {},
   "outputs": [],
   "source": [
    "#criteria\n",
    "match_num_1w_fof_a, match_num_2w_fof_a, ind_bij_fof_a = volume_association(truth_data, cluster_data, 0.05, 1.00,\"scaled\", cosmo)"
   ]
  },
  {
   "cell_type": "code",
   "execution_count": null,
   "metadata": {},
   "outputs": [],
   "source": [
    "#statistics\n",
    "print (\"number of bijective associations\", number_of_associations(truth_data, ind_bij_fof_a))\n",
    "print (\"number and fraction of overmerging\", overmerging(match_num_2w_fof_a, truth_data, ind_bij_fof_a, method=\"bij\"))\n",
    "print (\"number and fraction of fragmentation\", fragmentation(match_num_1w_fof_a, truth_data, ind_bij_fof_a, method=\"bij\"))\n",
    "\n",
    "#sanity check\n",
    "plot_redshift_comparison(truth_data, cluster_data, ind_bij_fof_a[:,1], ind_bij_fof_a[:,0])"
   ]
  },
  {
   "cell_type": "markdown",
   "metadata": {},
   "source": [
    "### - 4rth association criteria : $\\Delta_z=0.05, R_{max} =  0.5 \\times R_{\\tilde {fof}}$ "
   ]
  },
  {
   "cell_type": "code",
   "execution_count": null,
   "metadata": {},
   "outputs": [],
   "source": [
    "#criteria\n",
    "match_num_1w_fof_b, match_num_2w_fof_b, ind_bij_fof_b = volume_association(truth_data, cluster_data, 0.05, 0.50,\"scaled\", cosmo)"
   ]
  },
  {
   "cell_type": "code",
   "execution_count": null,
   "metadata": {},
   "outputs": [],
   "source": [
    "#statistics\n",
    "print (\"number of bijective associations\", number_of_associations(truth_data, ind_bij_fof_b))\n",
    "print (\"number and fraction of overmerging\", overmerging(match_num_2w_fof_b, truth_data, ind_bij_fof_b, method=\"bij\"))\n",
    "print (\"number and fraction of fragmentation\", fragmentation(match_num_1w_fof_b, truth_data, ind_bij_fof_b, method=\"bij\"))\n",
    "\n",
    "#sanity check\n",
    "plot_redshift_comparison(truth_data, cluster_data, ind_bij_fof_b[:,1], ind_bij_fof_b[:,0])"
   ]
  },
  {
   "cell_type": "markdown",
   "metadata": {},
   "source": [
    "# 3 - compute completeness"
   ]
  },
  {
   "cell_type": "markdown",
   "metadata": {},
   "source": [
    "### completeness defined as : number of association/number of true halos"
   ]
  },
  {
   "cell_type": "code",
   "execution_count": null,
   "metadata": {},
   "outputs": [],
   "source": [
    "#number of true halos\n",
    "bin_range = [[0,2],[14.,15.2]]\n",
    "bins = [10,6]\n",
    "num_min=20.\n",
    "\n",
    "hist_num_cluster = plt.hist2d(truth_data['redshift'],np.log10(truth_data['halo_mass']),range=bin_range, bins= bins,cmap='jet');\n",
    "plt.colorbar()\n",
    "plt.xlabel('$z_{DC2}$')\n",
    "plt.ylabel('$log(M_{fof})$');\n"
   ]
  },
  {
   "cell_type": "code",
   "execution_count": null,
   "metadata": {},
   "outputs": [],
   "source": [
    "vmax = 60. #max value for colorbar\n",
    "\n",
    "fig, axe = plt.subplots(2,2, sharex=True, sharey=True)\n",
    "\n",
    "fig.suptitle('Number of bijective associations')\n",
    "\n",
    "title = ['$R_{max}=0.75 Mpc$', '$R_{max}=0.50 Mpc$', '$R_{max}=R_{fof}$', '$R_{max}=0.5R_{fof}$']\n",
    "\n",
    "k = 0\n",
    "for i in range(2):\n",
    "    for j in range(2):\n",
    "        axe[i,j].text(0.1,15,title[k],color = \"white\",fontsize='small')\n",
    "        k = k+1\n",
    "\n",
    "hist_num_match1 = axe[0,0].hist2d(truth_data['redshift'][ind_bij_a[:,1]],np.log10(truth_data['halo_mass'][ind_bij_a[:,1]]),range=bin_range, bins= bins,cmap='jet',vmin = 0, vmax = vmax);\n",
    "hist_num_match2 = axe[0,1].hist2d(truth_data['redshift'][ind_bij_b[:,1]],np.log10(truth_data['halo_mass'][ind_bij_b[:,1]]),range=bin_range, bins= bins,cmap='jet',vmin = 0, vmax = vmax);\n",
    "hist_num_match3 = axe[1,0].hist2d(truth_data['redshift'][ind_bij_fof_a[:,1]],np.log10(truth_data['halo_mass'][ind_bij_fof_a[:,1]]),range=bin_range, bins= bins,cmap='jet',vmin = 0, vmax = vmax);\n",
    "hist_num_match4 = axe[1,1].hist2d(truth_data['redshift'][ind_bij_fof_b[:,1]],np.log10(truth_data['halo_mass'][ind_bij_fof_b[:,1]]),range=bin_range, bins= bins,cmap='jet',vmin = 0, vmax = vmax);\n",
    "\n",
    "fig.colorbar(hist_num_match4[3], ax=axe.ravel().tolist())\n",
    "axe[1,1].set_xlim(0,1.5)\n",
    "\n",
    "axe[1,0].set_xlabel('$z_{DC2}$')\n",
    "axe[1,1].set_xlabel('$z_{DC2}$')\n",
    "axe[0,0].set_ylabel('$log(M_{fof})$')\n",
    "axe[1,0].set_ylabel('$log(M_{fof})$');\n"
   ]
  },
  {
   "cell_type": "code",
   "execution_count": null,
   "metadata": {},
   "outputs": [],
   "source": [
    "fig, axe = plt.subplots(2,2, sharex=True, sharey=True , figsize = (10,8))\n",
    "\n",
    "fig.suptitle('Completeness')\n",
    "\n",
    "k = 0\n",
    "for i in range(2):\n",
    "    for j in range(2):\n",
    "        axe[i,j].text(0.1,15.,title[k])\n",
    "        k = k+1\n",
    "        \n",
    "axe[0,0].imshow(hist_num_match1[0].T/hist_num_cluster[0].T,origin = 'lower',aspect='auto',extent = [bin_range[0][0],bin_range[0][1],bin_range[1][0],bin_range[1][1]],vmin=0,vmax=1,cmap='jet',alpha=0.2);\n",
    "axe[0,0].imshow(np.ma.masked_where(hist_num_cluster[0] < num_min, hist_num_match1[0]).T/hist_num_cluster[0].T,origin = 'lower',aspect='auto',extent = [bin_range[0][0],bin_range[0][1],bin_range[1][0],bin_range[1][1]],vmin=0,vmax=1,cmap='jet');\n",
    "\n",
    "axe[0,1].imshow(hist_num_match2[0].T/hist_num_cluster[0].T,origin = 'lower',aspect='auto',extent = [bin_range[0][0],bin_range[0][1],bin_range[1][0],bin_range[1][1]],vmin=0,vmax=1,cmap='jet',alpha=0.2);\n",
    "axe[0,1].imshow(np.ma.masked_where(hist_num_cluster[0] < num_min, hist_num_match2[0]).T/hist_num_cluster[0].T,origin = 'lower',aspect='auto',extent = [bin_range[0][0],bin_range[0][1],bin_range[1][0],bin_range[1][1]],vmin=0,vmax=1,cmap='jet');\n",
    "\n",
    "axe[1,0].imshow(hist_num_match3[0].T/hist_num_cluster[0].T,origin = 'lower',aspect='auto',extent = [bin_range[0][0],bin_range[0][1],bin_range[1][0],bin_range[1][1]],vmin=0,vmax=1,cmap='jet',alpha=0.2);\n",
    "axe[1,0].imshow(np.ma.masked_where(hist_num_cluster[0] < num_min, hist_num_match3[0]).T/hist_num_cluster[0].T,origin = 'lower',aspect='auto',extent = [bin_range[0][0],bin_range[0][1],bin_range[1][0],bin_range[1][1]],vmin=0,vmax=1,cmap='jet');\n",
    "\n",
    "axe[1,1].imshow(hist_num_match4[0].T/hist_num_cluster[0].T,origin = 'lower',aspect='auto',extent = [bin_range[0][0],bin_range[0][1],bin_range[1][0],bin_range[1][1]],vmin=0,vmax=1,cmap='jet',alpha=0.2);\n",
    "im = axe[1,1].imshow(np.ma.masked_where(hist_num_cluster[0] < num_min, hist_num_match4[0]).T/hist_num_cluster[0].T,origin = 'lower',aspect='auto',extent = [bin_range[0][0],bin_range[0][1],bin_range[1][0],bin_range[1][1]],vmin=0,vmax=1,cmap='jet');\n",
    "\n",
    "fig.colorbar(im, ax=axe.ravel().tolist())\n",
    "axe[1,1].set_xlim(0,1.5)\n",
    "\n",
    "axe[1,0].set_xlabel('$z_{DC2}$')\n",
    "axe[1,1].set_xlabel('$z_{DC2}$')\n",
    "axe[0,0].set_ylabel('$log(M_{fof})$')\n",
    "axe[1,0].set_ylabel('$log(M_{fof})$');"
   ]
  },
  {
   "cell_type": "code",
   "execution_count": null,
   "metadata": {},
   "outputs": [],
   "source": [
    "#mean completeness for each association criteria\n",
    "print ('mean completeness at z<1.2 :',np.nanmean(hist_num_match1[0][0:6,:].T/hist_num_cluster[0][0:6,:].T))\n",
    "print ('mean completeness at z<1.2 :',np.nanmean(hist_num_match2[0][0:6,:].T/hist_num_cluster[0][0:6,:].T))\n",
    "print ('mean completeness at z<1.2 :',np.nanmean(hist_num_match3[0][0:6,:].T/hist_num_cluster[0][0:6,:].T))\n",
    "print ('mean completeness at z<1.2 :',np.nanmean(hist_num_match4[0][0:6,:].T/hist_num_cluster[0][0:6,:].T))\n"
   ]
  },
  {
   "cell_type": "markdown",
   "metadata": {},
   "source": [
    "# 3 - compute purity"
   ]
  },
  {
   "cell_type": "markdown",
   "metadata": {},
   "source": [
    "### completeness defined as : number of association/number of detections"
   ]
  },
  {
   "cell_type": "code",
   "execution_count": null,
   "metadata": {},
   "outputs": [],
   "source": [
    "#total number of redmapper detections\n",
    "bin_range2 = [[0,1.2],[1.3,2.5]]\n",
    "bins2 = [6,6]\n",
    "\n",
    "hist_num_det = plt.hist2d(cluster_data['redshift'],np.log10(cluster_data['richness']),range=bin_range2, bins= bins2,cmap='jet');\n",
    "plt.colorbar()\n",
    "plt.xlabel('$z_{RM}$')\n",
    "plt.ylabel('$log(\\lambda_{RM})$');"
   ]
  },
  {
   "cell_type": "code",
   "execution_count": null,
   "metadata": {},
   "outputs": [],
   "source": [
    "vmax = 120. #max value for colorbar\n",
    "\n",
    "fig, axe = plt.subplots(2,2, sharex=True, sharey=True)\n",
    "\n",
    "fig.suptitle('Number of associations')\n",
    "\n",
    "k = 0\n",
    "for i in range(2):\n",
    "    for j in range(2):\n",
    "        axe[i,j].text(0.1,2.4,title[k],color = \"white\",fontsize='small')\n",
    "        k = k+1\n",
    "        \n",
    "hist2_num_match1 = axe[0,0].hist2d(cluster_data['redshift'][ind_bij_a[:,0]],np.log10(cluster_data['richness'][ind_bij_a[:,0]]),range=bin_range2, bins= bins2,cmap='jet',vmin = 0, vmax = vmax);\n",
    "hist2_num_match2 = axe[0,1].hist2d(cluster_data['redshift'][ind_bij_b[:,0]],np.log10(cluster_data['richness'][ind_bij_b[:,0]]),range=bin_range2, bins= bins2,cmap='jet',vmin = 0, vmax = vmax);\n",
    "hist2_num_match3 = axe[1,0].hist2d(cluster_data['redshift'][ind_bij_fof_a[:,0]],np.log10(cluster_data['richness'][ind_bij_fof_a[:,0]]),range=bin_range2, bins= bins2,cmap='jet',vmin = 0, vmax = vmax);\n",
    "hist2_num_match4 = axe[1,1].hist2d(cluster_data['redshift'][ind_bij_fof_b[:,0]],np.log10(cluster_data['richness'][ind_bij_fof_b[:,0]]),range=bin_range2, bins= bins2,cmap='jet',vmin = 0, vmax = vmax);\n",
    "\n",
    "fig.colorbar(hist2_num_match4[3], ax=axe.ravel().tolist())\n",
    "\n",
    "axe[1,0].set_xlabel('$z_{RM}$')\n",
    "axe[1,1].set_xlabel('$z_{RM}$')\n",
    "axe[0,0].set_ylabel('$log(\\lambda_{RM})$')\n",
    "axe[1,0].set_ylabel('$log(\\lambda_{RM})$');\n"
   ]
  },
  {
   "cell_type": "code",
   "execution_count": null,
   "metadata": {},
   "outputs": [],
   "source": [
    "#if the loaded truth catalog is smaller in area than the detection catalog the purity will be artificially low\n",
    "#in practice one should precisely compute the overlapping area\n",
    "\n",
    "if gc_truth.sky_area < 60:\n",
    "    scale = gc.sky_area / gc_truth.sky_area\n",
    "    \n",
    "print (scale)    "
   ]
  },
  {
   "cell_type": "code",
   "execution_count": null,
   "metadata": {},
   "outputs": [],
   "source": [
    "fig, axe = plt.subplots(2,2, sharex=True, sharey=True, figsize = (10,8))\n",
    "\n",
    "fig.suptitle('Purity')\n",
    "\n",
    "vmin_p = 0.7\n",
    "\n",
    "k = 0\n",
    "for i in range(2):\n",
    "    for j in range(2):\n",
    "        axe[i,j].text(0.1,2.4,title[k])\n",
    "        k = k+1\n",
    "\n",
    "axe[0,0].imshow(scale * hist2_num_match1[0].T/hist_num_det[0].T,origin = 'lower',aspect='auto',extent = [bin_range2[0][0],bin_range2[0][1],bin_range2[1][0],bin_range2[1][1]],vmin=0,vmax=1,cmap='jet',alpha=0.2)\n",
    "axe[0,0].imshow(scale * np.ma.masked_where(hist_num_det[0] < num_min, hist2_num_match1[0]).T/hist_num_det[0].T,origin = 'lower',aspect='auto',extent = [bin_range2[0][0],bin_range2[0][1],bin_range2[1][0],bin_range2[1][1]],vmin=vmin_p,vmax=1,cmap='jet')\n",
    "\n",
    "axe[0,1].imshow(scale * hist2_num_match2[0].T/hist_num_det[0].T,origin = 'lower',aspect='auto',extent = [bin_range2[0][0],bin_range2[0][1],bin_range2[1][0],bin_range2[1][1]],vmin=0,vmax=1,cmap='jet',alpha=0.2)\n",
    "axe[0,1].imshow(scale * np.ma.masked_where(hist_num_det[0] < num_min, hist2_num_match2[0]).T/hist_num_det[0].T,origin = 'lower',aspect='auto',extent = [bin_range2[0][0],bin_range2[0][1],bin_range2[1][0],bin_range2[1][1]],vmin=vmin_p,vmax=1,cmap='jet')\n",
    "\n",
    "axe[1,0].imshow(scale * hist2_num_match3[0].T/hist_num_det[0].T,origin = 'lower',aspect='auto',extent = [bin_range2[0][0],bin_range2[0][1],bin_range2[1][0],bin_range2[1][1]],vmin=0,vmax=1,cmap='jet',alpha=0.2)\n",
    "axe[1,0].imshow(scale * np.ma.masked_where(hist_num_det[0] < num_min, hist2_num_match3[0]).T/hist_num_det[0].T,origin = 'lower',aspect='auto',extent = [bin_range2[0][0],bin_range2[0][1],bin_range2[1][0],bin_range2[1][1]],vmin=vmin_p,vmax=1,cmap='jet')\n",
    "\n",
    "axe[1,1].imshow(scale * hist2_num_match4[0].T/hist_num_det[0].T,origin = 'lower',aspect='auto',extent = [bin_range2[0][0],bin_range2[0][1],bin_range2[1][0],bin_range2[1][1]],vmin=0,vmax=1,cmap='jet',alpha=0.2)\n",
    "im = axe[1,1].imshow(scale * np.ma.masked_where(hist_num_det[0] < num_min, hist2_num_match4[0]).T/hist_num_det[0].T,origin = 'lower',aspect='auto',extent = [bin_range2[0][0],bin_range2[0][1],bin_range2[1][0],bin_range2[1][1]],vmin=vmin_p,vmax=1,cmap='jet')\n",
    "\n",
    "fig.colorbar(im, ax=axe.ravel().tolist())\n",
    "\n",
    "axe[1,0].set_xlabel('$z_{RM}$')\n",
    "axe[1,1].set_xlabel('$z_{RM}$')\n",
    "axe[0,0].set_ylabel('$log(\\lambda_{RM})$')\n",
    "axe[1,0].set_ylabel('$log(\\lambda_{RM})$');"
   ]
  },
  {
   "cell_type": "code",
   "execution_count": null,
   "metadata": {},
   "outputs": [],
   "source": [
    "#mean purity for each association criteria\n",
    "\n",
    "print ('mean purity at z<1.2 :',scale * np.nanmean(hist2_num_match1[0].T/hist_num_det[0].T))\n",
    "print ('mean purity at z<1.2 :',scale * np.nanmean(hist2_num_match2[0].T/hist_num_det[0].T))\n",
    "print ('mean purity at z<1.2 :',scale * np.nanmean(hist2_num_match3[0].T/hist_num_det[0].T))\n",
    "print ('mean purity at z<1.2 :',scale * np.nanmean(hist2_num_match4[0].T/hist_num_det[0].T))"
   ]
  },
  {
   "cell_type": "markdown",
   "metadata": {},
   "source": [
    "# 4 - mass-richness relations"
   ]
  },
  {
   "cell_type": "code",
   "execution_count": null,
   "metadata": {},
   "outputs": [],
   "source": [
    "fig, axe = plt.subplots(2,2, sharex=True, sharey=True, figsize = (10,8))\n",
    "\n",
    "fig.suptitle('Redmapper richness-mass relation')\n",
    "\n",
    "k = 0\n",
    "for i in range(2):\n",
    "    for j in range(2):\n",
    "        axe[i,j].text(13.8,2.4,title[k])\n",
    "        k = k+1        \n",
    "        \n",
    "axe[0,0].scatter(np.log10(truth_data['halo_mass'][ind_bij_a[:,1]]),np.log10(cluster_data['richness'][ind_bij_a[:,0]]),c=truth_data['redshift'][ind_bij_a[:,1]],s=40,cmap='jet',vmin = 0.1, vmax = 1.2,alpha=0.2)\n",
    "axe[0,1].scatter(np.log10(truth_data['halo_mass'][ind_bij_b[:,1]]),np.log10(cluster_data['richness'][ind_bij_b[:,0]]),c=truth_data['redshift'][ind_bij_b[:,1]],s=40,cmap='jet',vmin = 0.1, vmax = 1.2,alpha=0.2)\n",
    "axe[1,0].scatter(np.log10(truth_data['halo_mass'][ind_bij_fof_a[:,1]]),np.log10(cluster_data['richness'][ind_bij_fof_a[:,0]]),c=truth_data['redshift'][ind_bij_fof_a[:,1]],s=40,cmap='jet',alpha=0.2,vmin = 0.1, vmax = 1.2)\n",
    "im = axe[1,1].scatter(np.log10(truth_data['halo_mass'][ind_bij_fof_b[:,1]]),np.log10(cluster_data['richness'][ind_bij_fof_b[:,0]]),c=truth_data['redshift'][ind_bij_fof_b[:,1]],s=40,cmap='jet',alpha=0.2,vmin = 0.1, vmax = 1.2)\n",
    "\n",
    "fig.colorbar(im, ax=axe.ravel().tolist())\n",
    "\n",
    "#add an arbitrary power law with slope = 1 for vizualisation purpose\n",
    "x = np.linspace(13.65,15.2,20)\n",
    "zp,slope = -12.5, 1.0\n",
    "\n",
    "for i in range(2):\n",
    "    for j in range(2):\n",
    "        axe[i,j].plot(x,zp+x*(slope),'k--',alpha=0.5,label='$N_{gal}\\propto M_{h}$ relation')\n",
    "        \n",
    "axe[0,0].set_ylim(1.25,2.6)\n",
    "axe[0,0].set_xlim(13.65,15.2)\n",
    "    \n",
    "axe[1,0].set_xlabel('$log(M_{fof})$')\n",
    "axe[1,1].set_xlabel('$log(M_{fof})$');\n",
    "axe[0,0].set_ylabel('$log(\\lambda_{RM})$')\n",
    "axe[1,0].set_ylabel('$log(\\lambda_{RM})$');"
   ]
  },
  {
   "cell_type": "code",
   "execution_count": null,
   "metadata": {},
   "outputs": [],
   "source": [
    "f, ax = plt.subplots(2,2, sharex=True, sharey=True)\n",
    "\n",
    "#f.suptitle('Redmapper richness-mass relation in different redshift bins \\n example for association criteria 1')\n",
    "\n",
    "z = truth_data['redshift'][ind_bij_fof_a[:,1]]\n",
    "label = ['z<0.3','0.3<z<0.6','0.6<z<0.9','0.9<z<1.2']\n",
    "\n",
    "ax[0,0].plot(np.log10(truth_data['halo_mass'][ind_bij_fof_a[:,1]][z<0.3]),np.log10(cluster_data['richness'][ind_bij_fof_a[:,0]][z<0.3]),'k.',alpha=0.1)\n",
    "ax[0,1].plot(np.log10(truth_data['halo_mass'][ind_bij_fof_a[:,1]][(z>0.3)*(z<0.6)]),np.log10(cluster_data['richness'][ind_bij_fof_a[:,0]][(z>0.3)*(z<0.6)]),'k.',alpha=0.1)\n",
    "ax[1,0].plot(np.log10(truth_data['halo_mass'][ind_bij_fof_a[:,1]][(z>0.6)*(z<0.9)]),np.log10(cluster_data['richness'][ind_bij_fof_a[:,0]][(z>0.6)*(z<0.9)]),'k.',alpha=0.1)\n",
    "ax[1,1].plot(np.log10(truth_data['halo_mass'][ind_bij_fof_a[:,1]][(z>0.9)*(z<1.2)]),np.log10(cluster_data['richness'][ind_bij_fof_a[:,0]][(z>0.9)*(z<1.2)]),'k.',alpha=0.1)\n",
    "\n",
    "k = 0\n",
    "for i in range(2):\n",
    "    for j in range(2):\n",
    "        ax[i,j].plot(x,zp+x*(slope),'k--',alpha=0.5,label='$N_{gal}\\propto M_{h}$ relation')\n",
    "        ax[i,j].text(13.8,2.3,label[k])\n",
    "        k = k+1\n",
    "        \n",
    "ax[0,0].set_ylim(1.25,2.6)\n",
    "ax[0,0].set_xlim(13.65,15.2)\n",
    "\n",
    "ax[1,0].set_xlabel('$log(M_{fof})$')\n",
    "ax[1,1].set_xlabel('$log(M_{fof})$');\n",
    "ax[0,0].set_ylabel('$log(\\lambda_{RM})$')\n",
    "ax[1,0].set_ylabel('$log(\\lambda_{RM})$');"
   ]
  },
  {
   "cell_type": "markdown",
   "metadata": {},
   "source": [
    "# 5 - centering"
   ]
  },
  {
   "cell_type": "code",
   "execution_count": null,
   "metadata": {},
   "outputs": [],
   "source": [
    "#association of DC2 centrals to Redmapper centrals\n",
    "ind_a1, ind_a2 = esutil.numpy_util.match(cluster_data['id_cen_0'][ind_bij_a[:,0]],truth_data['galaxy_id'][ind_bij_a[:,1]])\n",
    "ind_b1, ind_b2 = esutil.numpy_util.match(cluster_data['id_cen_0'][ind_bij_b[:,0]],truth_data['galaxy_id'][ind_bij_b[:,1]])\n",
    "ind_fof_a1, ind_fof_a2 = esutil.numpy_util.match(cluster_data['id_cen_0'][ind_bij_fof_a[:,0]],truth_data['galaxy_id'][ind_bij_fof_a[:,1]])\n",
    "ind_fof_b1, ind_fof_b2 = esutil.numpy_util.match(cluster_data['id_cen_0'][ind_bij_fof_b[:,0]],truth_data['galaxy_id'][ind_bij_fof_b[:,1]])"
   ]
  },
  {
   "cell_type": "code",
   "execution_count": null,
   "metadata": {},
   "outputs": [],
   "source": [
    "vmax = 60. #max value for colorbar\n",
    "\n",
    "fig, axe = plt.subplots(2,2, sharex=True, sharey=True)\n",
    "\n",
    "fig.suptitle('Number of centered detections')\n",
    "\n",
    "k = 0\n",
    "for i in range(2):\n",
    "    for j in range(2):\n",
    "        axe[i,j].text(0.1,15,title[k],color = \"white\",fontsize='small')\n",
    "        k = k+1\n",
    "\n",
    "hist_num_match_cen1 = axe[0,0].hist2d(truth_data['redshift'][ind_bij_a[:,1]][ind_a2],np.log10(truth_data['halo_mass'][ind_bij_a[:,1]][ind_a2]),range=bin_range, bins= bins,cmap='jet',vmin = 0, vmax = vmax);\n",
    "hist_num_match_cen2 = axe[0,1].hist2d(truth_data['redshift'][ind_bij_b[:,1]][ind_b2],np.log10(truth_data['halo_mass'][ind_bij_b[:,1]][ind_b2]),range=bin_range, bins= bins,cmap='jet',vmin = 0, vmax = vmax);\n",
    "hist_num_match_cen3 = axe[1,0].hist2d(truth_data['redshift'][ind_bij_fof_a[:,1]][ind_fof_a2],np.log10(truth_data['halo_mass'][ind_bij_fof_a[:,1]][ind_fof_a2]),range=bin_range, bins= bins,cmap='jet',vmin = 0, vmax = vmax);\n",
    "hist_num_match_cen4 = axe[1,1].hist2d(truth_data['redshift'][ind_bij_fof_b[:,1]][ind_fof_b2],np.log10(truth_data['halo_mass'][ind_bij_fof_b[:,1]][ind_fof_b2]),range=bin_range, bins= bins,cmap='jet',vmin = 0, vmax = vmax);\n",
    "\n",
    "fig.colorbar(hist_num_match_cen4[3], ax=axe.ravel().tolist())\n",
    "\n",
    "axe[1,0].set_xlim(0,1.2)\n",
    "\n",
    "axe[1,0].set_xlabel('$z_{DC2}$')\n",
    "axe[1,1].set_xlabel('$z_{DC2}$')\n",
    "axe[0,0].set_ylabel('$log(M_{fof})$')\n",
    "axe[1,0].set_ylabel('$log(M_{fof})$');"
   ]
  },
  {
   "cell_type": "code",
   "execution_count": null,
   "metadata": {},
   "outputs": [],
   "source": [
    "fig, axe = plt.subplots(2,2, sharex=True, sharey=True , figsize = (10,8))\n",
    "\n",
    "fig.suptitle('fraction of centered detections')\n",
    "\n",
    "vmin_c = 0.8\n",
    "\n",
    "k = 0\n",
    "for i in range(2):\n",
    "    for j in range(2):\n",
    "        axe[i,j].text(0.1,15.,title[k])\n",
    "        k = k+1\n",
    "        \n",
    "axe[0,0].imshow(hist_num_match_cen1[0].T/hist_num_match1[0].T,origin = 'lower',aspect='auto',extent = [bin_range[0][0],bin_range[0][1],bin_range[1][0],bin_range[1][1]],vmin=0,vmax=1,cmap='jet',alpha=0.2);\n",
    "axe[0,0].imshow(np.ma.masked_where(hist_num_match1[0] < num_min, hist_num_match_cen1[0]).T/hist_num_match1[0].T,origin = 'lower',aspect='auto',extent = [bin_range[0][0],bin_range[0][1],bin_range[1][0],bin_range[1][1]],vmin=vmin_c,vmax=1,cmap='jet');\n",
    "\n",
    "axe[0,1].imshow(hist_num_match_cen2[0].T/hist_num_match2[0].T,origin = 'lower',aspect='auto',extent = [bin_range[0][0],bin_range[0][1],bin_range[1][0],bin_range[1][1]],vmin=0,vmax=1,cmap='jet',alpha=0.2);\n",
    "axe[0,1].imshow(np.ma.masked_where(hist_num_match2[0] < num_min, hist_num_match_cen2[0]).T/hist_num_match2[0].T,origin = 'lower',aspect='auto',extent = [bin_range[0][0],bin_range[0][1],bin_range[1][0],bin_range[1][1]],vmin=vmin_c,vmax=1,cmap='jet');\n",
    "\n",
    "axe[1,0].imshow(hist_num_match_cen3[0].T/hist_num_match3[0].T,origin = 'lower',aspect='auto',extent = [bin_range[0][0],bin_range[0][1],bin_range[1][0],bin_range[1][1]],vmin=0,vmax=1,cmap='jet',alpha=0.2);\n",
    "axe[1,0].imshow(np.ma.masked_where(hist_num_match3[0] < num_min, hist_num_match_cen3[0]).T/hist_num_match3[0].T,origin = 'lower',aspect='auto',extent = [bin_range[0][0],bin_range[0][1],bin_range[1][0],bin_range[1][1]],vmin=vmin_c,vmax=1,cmap='jet');\n",
    "\n",
    "axe[1,1].imshow(hist_num_match_cen4[0].T/hist_num_match4[0].T,origin = 'lower',aspect='auto',extent = [bin_range[0][0],bin_range[0][1],bin_range[1][0],bin_range[1][1]],vmin=0,vmax=1,cmap='jet',alpha=0.2);\n",
    "im = axe[1,1].imshow(np.ma.masked_where(hist_num_match4[0] < num_min, hist_num_match_cen4[0]).T/hist_num_match4[0].T,origin = 'lower',aspect='auto',extent = [bin_range[0][0],bin_range[0][1],bin_range[1][0],bin_range[1][1]],vmin=vmin_c,vmax=1,cmap='jet');\n",
    "\n",
    "fig.colorbar(im, ax=axe.ravel().tolist())\n",
    "axe[1,1].set_xlim(0,1.5)\n",
    "\n",
    "axe[1,0].set_xlabel('$z_{DC2}$')\n",
    "axe[1,1].set_xlabel('$z_{DC2}$')\n",
    "axe[0,0].set_ylabel('$log(M_{fof})$')\n",
    "axe[1,0].set_ylabel('$log(M_{fof})$');"
   ]
  },
  {
   "cell_type": "code",
   "execution_count": null,
   "metadata": {},
   "outputs": [],
   "source": [
    "#mean centred fraction for each association criteria\n",
    "\n",
    "hist_num_match_cen1[0].T/hist_num_match1[0].T\n",
    "\n",
    "print ('mean centred fraction at z<1.2 :',np.nanmean(hist_num_match_cen1[0][0:6,:].T/hist_num_match1[0][0:6,:].T))\n",
    "print ('mean centred fraction at z<1.2 :',np.nanmean(hist_num_match_cen2[0][0:6,:].T/hist_num_match2[0][0:6,:].T))\n",
    "print ('mean centred fraction at z<1.2 :',np.nanmean(hist_num_match_cen3[0][0:6,:].T/hist_num_match3[0][0:6,:].T))\n",
    "print ('mean centred fraction at z<1.2 :',np.nanmean(hist_num_match_cen4[0][0:6,:].T/hist_num_match4[0][0:6,:].T))"
   ]
  },
  {
   "cell_type": "code",
   "execution_count": null,
   "metadata": {},
   "outputs": [],
   "source": [
    "#offset between DC2 central and RM detection centre for macthed cases\n",
    "coo_DC2 = SkyCoord(truth_data['ra']*u.deg, truth_data['dec']*u.deg)\n",
    "coo_RM = SkyCoord(cluster_data['ra']*u.deg, cluster_data['dec']*u.deg)\n",
    "\n",
    "dist_to_central_arcmin1 = coo_DC2[ind_bij_a[:,1]].separation(coo_RM[ind_bij_a[:,0]]).arcmin*u.arcmin\n",
    "dist_to_central_Mpc1 = (cosmo.kpc_proper_per_arcmin(truth_data['redshift'][ind_bij_a[:,1]])*dist_to_central_arcmin1/1e3).value\n",
    "\n",
    "dist_to_central_arcmin2 = coo_DC2[ind_bij_b[:,1]].separation(coo_RM[ind_bij_b[:,0]]).arcmin*u.arcmin\n",
    "dist_to_central_Mpc2 = (cosmo.kpc_proper_per_arcmin(truth_data['redshift'][ind_bij_b[:,1]])*dist_to_central_arcmin2/1e3).value\n",
    "\n",
    "dist_to_central_arcmin3 = coo_DC2[ind_bij_fof_a[:,1]].separation(coo_RM[ind_bij_fof_a[:,0]]).arcmin*u.arcmin\n",
    "dist_to_central_Mpc3 = (cosmo.kpc_proper_per_arcmin(truth_data['redshift'][ind_bij_fof_a[:,1]])*dist_to_central_arcmin3/1e3).value\n",
    "\n",
    "dist_to_central_arcmin4 = coo_DC2[ind_bij_fof_b[:,1]].separation(coo_RM[ind_bij_fof_b[:,0]]).arcmin*u.arcmin\n",
    "dist_to_central_Mpc4 = (cosmo.kpc_proper_per_arcmin(truth_data['redshift'][ind_bij_fof_b[:,1]])*dist_to_central_arcmin4/1e3).value\n",
    "\n",
    "fig, axe = plt.subplots(2,2, sharex=True, sharey=True , figsize = (10,8))\n",
    "\n",
    "fig.suptitle('offset between DC2 central and RM detection centre')\n",
    "\n",
    "k = 0\n",
    "for i in range(2):\n",
    "    for j in range(2):\n",
    "        axe[i,j].text(0.1,1e3,title[k])\n",
    "        k = k+1\n",
    "        \n",
    "axe[0,0].hist(dist_to_central_Mpc1,bins=22,range=[0,1.1])\n",
    "axe[0,1].hist(dist_to_central_Mpc2,bins=22,range=[0,1.1])\n",
    "axe[1,0].hist(dist_to_central_Mpc3,bins=22,range=[0,1.1])\n",
    "axe[1,1].hist(dist_to_central_Mpc4,bins=22,range=[0,1.1])\n",
    "\n",
    "axe[1,1].set_yscale('log')\n",
    "\n",
    "axe[1,0].set_xlabel('offset (Mpc)')\n",
    "axe[1,1].set_xlabel('offset (Mpc)');\n"
   ]
  }
 ],
 "metadata": {
  "kernelspec": {
   "display_name": "Python 3",
   "language": "python",
   "name": "python3"
  },
  "language_info": {
   "codemirror_mode": {
    "name": "ipython",
    "version": 3
   },
   "file_extension": ".py",
   "mimetype": "text/x-python",
   "name": "python",
   "nbconvert_exporter": "python",
   "pygments_lexer": "ipython3",
   "version": "3.7.3"
  }
 },
 "nbformat": 4,
 "nbformat_minor": 2
}
