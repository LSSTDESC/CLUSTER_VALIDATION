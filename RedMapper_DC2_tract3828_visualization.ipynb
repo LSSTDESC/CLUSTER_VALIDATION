{
 "cells": [
  {
   "cell_type": "markdown",
   "metadata": {},
   "source": [
    "### ***Goal of this notebook:***\n",
    "#### The purpose of this notebook is to give instructions to visualize cosmoDC2 halos and redMaPPer detection position on the composite co-add DC2 image in tract 3828, usinh hscmap tool."
   ]
  },
  {
   "cell_type": "markdown",
   "metadata": {},
   "source": [
    "### ***Intructions***\n",
    "\n",
    "#### You can see the tract 3828 validation result by going to https://hscmap.mtk.nao.ac.jp/hscMap4/  \n",
    "#### and by clicking on analysis->external_tile->add and then point to the CC URL provided by  \n",
    "#### Johann Cohen-Tanugi on the desc-dm-DC2 slack channel.  \n",
    "#### A little unlabelled square box should appear that you can zoom on.\n",
    "\n",
    "#### Then run this notebook to extract corresponding cosmoDC2 halos and redmaPPer detections   \n",
    "#### in the field and save them in ascii. You can then simply drop the files on the HSC map window."
   ]
  },
  {
   "cell_type": "code",
   "execution_count": 1,
   "metadata": {},
   "outputs": [],
   "source": [
    "import GCRCatalogs\n",
    "\n",
    "import numpy as np\n",
    "import matplotlib.pyplot as plt\n",
    "from astropy.table import Table as Table\n",
    "from astropy.coordinates import SkyCoord\n",
    "from astropy import units as u\n",
    "from astropy.cosmology import FlatLambdaCDM\n",
    "from astropy.io import ascii\n",
    "\n",
    "from cluster_validation.opening_catalogs_functions import *\n",
    "from cluster_validation.association_methods import *\n",
    "from cluster_validation.plotting_functions import *\n",
    "from cluster_validation.association_statistics import *\n",
    "\n",
    "%matplotlib inline\n",
    "plt.rcParams['figure.figsize'] = [9.5, 6]\n",
    "plt.rcParams.update({'font.size': 18})\n",
    "#plt.rcParams['figure.figsize'] = [10, 8] for big figures"
   ]
  },
  {
   "cell_type": "code",
   "execution_count": 2,
   "metadata": {},
   "outputs": [],
   "source": [
    "from astropy.io import ascii"
   ]
  },
  {
   "cell_type": "markdown",
   "metadata": {},
   "source": [
    "# 0 - opening catalogs"
   ]
  },
  {
   "cell_type": "code",
   "execution_count": 3,
   "metadata": {},
   "outputs": [],
   "source": [
    "RM_cat_name = 'cosmoDC2_v1.1.4_redmapper_v0.2.1py'\n",
    "DC2_cat_name = 'cosmoDC2_v1.1.4'\n",
    "\n",
    "min_richness = 20\n",
    "min_halo_mass = 1e14 #Msun\n",
    "\n",
    "#tract 3828 ra, dec\n",
    "ra_min = 55.68\n",
    "ra_max = 57.6\n",
    "dec_min = -37.23\n",
    "dec_max = -35.67"
   ]
  },
  {
   "cell_type": "markdown",
   "metadata": {},
   "source": [
    "## Open cosmoDC2 and select halos in the tract"
   ]
  },
  {
   "cell_type": "code",
   "execution_count": 4,
   "metadata": {},
   "outputs": [],
   "source": [
    "# load DC2 calalog\n",
    "DC2_catalog = GCRCatalogs.load_catalog(DC2_cat_name)"
   ]
  },
  {
   "cell_type": "code",
   "execution_count": 5,
   "metadata": {},
   "outputs": [],
   "source": [
    "# load quantities of interest (may take a few minutes)\n",
    "query_dc2 = GCRCatalogs.GCRQuery('(is_central==True) & (ra>'+str(ra_min)+') & (ra<'+str(ra_max)+') & (dec>'+str(dec_min)+') & (dec<'+str(dec_max)+') & ( halo_mass >'+str(min_halo_mass)+')')\n",
    "halo_data = Table(DC2_catalog.get_quantities(['ra', 'dec','redshift','halo_mass', 'halo_id','is_central'], [query_dc2]))"
   ]
  },
  {
   "cell_type": "markdown",
   "metadata": {},
   "source": [
    "## Open redMaPPer on cosmoDC2 and select detections in the tract"
   ]
  },
  {
   "cell_type": "code",
   "execution_count": 6,
   "metadata": {},
   "outputs": [],
   "source": [
    "# Get the redMaPPer catalog\n",
    "gc = GCRCatalogs.load_catalog('cosmoDC2_v1.1.4_redmapper_v0.2.1py')"
   ]
  },
  {
   "cell_type": "code",
   "execution_count": 7,
   "metadata": {},
   "outputs": [],
   "source": [
    "# Select out the cluster and member quantities into different lists\n",
    "quantities = gc.list_all_quantities()\n",
    "cluster_quantities = [q for q in quantities if 'member' not in q]\n",
    "member_quantities = [q for q in quantities if 'member' in q]"
   ]
  },
  {
   "cell_type": "code",
   "execution_count": 8,
   "metadata": {},
   "outputs": [],
   "source": [
    "# Read in the cluster and member data\n",
    "query_rm = GCRCatalogs.GCRQuery('(ra>'+str(ra_min)+') & (ra<'+str(ra_max)+') & (dec>'+str(dec_min)+') & (dec<'+str(dec_max)+')')\n",
    "cluster_data = Table(gc.get_quantities(cluster_quantities, [query_rm]))\n",
    "\n",
    "query_rm = GCRCatalogs.GCRQuery('(ra_member>'+str(ra_min)+') & (ra_member<'+str(ra_max)+') & (dec_member>'+str(dec_min)+') & (dec_member<'+str(dec_max)+')')\n",
    "\n",
    "member_data = Table(gc.get_quantities(member_quantities, [query_rm]))"
   ]
  },
  {
   "cell_type": "code",
   "execution_count": 9,
   "metadata": {},
   "outputs": [],
   "source": [
    "#save DC2 sub-catalog as ascii\n",
    "ascii.write(halo_data, 'DC2_halo_list_tract3828.csv', format='csv', fast_writer=False,overwrite=True)  "
   ]
  },
  {
   "cell_type": "code",
   "execution_count": 10,
   "metadata": {},
   "outputs": [],
   "source": [
    "#save redmapper sub-catalog as ascii\n",
    "ascii.write(cluster_data, 'rm_detection_list_tract3828.csv', format='csv', fast_writer=False,overwrite=True)  "
   ]
  },
  {
   "cell_type": "code",
   "execution_count": null,
   "metadata": {},
   "outputs": [],
   "source": []
  }
 ],
 "metadata": {
  "kernelspec": {
   "display_name": "Python 3",
   "language": "python",
   "name": "python3"
  },
  "language_info": {
   "codemirror_mode": {
    "name": "ipython",
    "version": 3
   },
   "file_extension": ".py",
   "mimetype": "text/x-python",
   "name": "python",
   "nbconvert_exporter": "python",
   "pygments_lexer": "ipython3",
   "version": "3.7.3"
  }
 },
 "nbformat": 4,
 "nbformat_minor": 2
}
